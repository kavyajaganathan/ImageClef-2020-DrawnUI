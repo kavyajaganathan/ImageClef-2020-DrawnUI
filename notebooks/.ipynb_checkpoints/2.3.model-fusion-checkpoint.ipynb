{
 "cells": [
  {
   "cell_type": "code",
   "execution_count": null,
   "metadata": {},
   "outputs": [],
   "source": [
    "import json\n",
    "import os\n",
    "import collections\n",
    "with open('../results/resnest-101_2.json') as file1:\n",
    "    resnest = json.load(file1)\n",
    "with open('../results/yolo_predictions.json') as file2:\n",
    "    yolo = json.load(file2)"
   ]
  },
  {
   "cell_type": "code",
   "execution_count": null,
   "metadata": {},
   "outputs": [],
   "source": [
    "d1 = {}\n",
    "for j in [i['category_id'] for i in resnest]:\n",
    "    if str(j) not in d1.keys():\n",
    "        d1[str(j)]=1\n",
    "    else:\n",
    "        d1[str(j)]+=1\n",
    "print(d1)\n",
    "print(collections.OrderedDict(sorted(d1.items())))"
   ]
  },
  {
   "cell_type": "code",
   "execution_count": null,
   "metadata": {},
   "outputs": [],
   "source": [
    "result = []\n",
    "tot = 0\n",
    "for id in range(0,20):\n",
    "    fil1 = []\n",
    "    fil2 = []\n",
    "    for val in resnest:\n",
    "        if val['category_id'] == id:\n",
    "            fil1.append(val)\n",
    "    for val in yolo:\n",
    "        if val['category_id'] == id:\n",
    "            fil2.append(val)\n",
    "    print(id,\" \",len(fil1),\" \",len(fil2),\" \",max(len(fil1),len(fil2)))\n",
    "    tot+=max(len(fil1),len(fil2))\n",
    "    if len(fil1)>10:\n",
    "        result+=fil1\n",
    "    else:\n",
    "        result+=fil2\n",
    "with open('../results/fusion_submission1.txt','wt') as out:\n",
    "    json.dump(result,out)"
   ]
  },
  {
   "cell_type": "code",
   "execution_count": null,
   "metadata": {},
   "outputs": [],
   "source": [
    "result = []\n",
    "tot = 0\n",
    "for id in range(0,20):\n",
    "    fil1 = []\n",
    "    fil2 = []\n",
    "    for val in resnest:\n",
    "        if val['category_id'] == id:\n",
    "            fil1.append(val)\n",
    "    for val in yolo:\n",
    "        if val['category_id'] == id:\n",
    "            fil2.append(val)\n",
    "    print(id,\" \",len(fil1),\" \",len(fil2),\" \",max(len(fil1),len(fil2)))\n",
    "    if id == 0:\n",
    "        result+=fil1\n",
    "    elif id == 1:\n",
    "        result+=fil2\n",
    "    elif id == 2:\n",
    "        result+=fil2\n",
    "    elif id == 3:\n",
    "        result+=fil1\n",
    "    elif id == 4:\n",
    "        result+=fil1\n",
    "    elif id == 5:\n",
    "        result+=fil2\n",
    "    elif id == 6:\n",
    "        result+=fil2\n",
    "    elif id == 7:\n",
    "        result+=fil2\n",
    "    elif id == 8:\n",
    "        result+=fil1\n",
    "    elif id == 9:\n",
    "        result+=fil2\n",
    "    elif id == 10:\n",
    "        result+=fil1\n",
    "    elif id == 11:\n",
    "        result+=fil2\n",
    "    elif id == 12:\n",
    "        result+=fil2\n",
    "    elif id == 13:\n",
    "        result+=fil1\n",
    "    elif id == 14:\n",
    "        result+=fil2\n",
    "    elif id == 15:\n",
    "        result+=fil2\n",
    "    elif id == 16:\n",
    "        result+=fil2\n",
    "    elif id == 17:\n",
    "        result+=fil1\n",
    "    elif id == 18:\n",
    "        result+=fil1\n",
    "    elif id == 19:\n",
    "        result+=fil2\n",
    "    elif id == 20:\n",
    "        result+=fil2\n",
    "with open('../results/fusion_submission2.txt','wt') as out:\n",
    "    json.dump(result,out)"
   ]
  },
  {
   "cell_type": "code",
   "execution_count": null,
   "metadata": {},
   "outputs": [],
   "source": []
  }
 ],
 "metadata": {
  "kernelspec": {
   "display_name": "Python 3",
   "language": "python",
   "name": "python3"
  },
  "language_info": {
   "codemirror_mode": {
    "name": "ipython",
    "version": 3
   },
   "file_extension": ".py",
   "mimetype": "text/x-python",
   "name": "python",
   "nbconvert_exporter": "python",
   "pygments_lexer": "ipython3",
   "version": "3.7.7"
  }
 },
 "nbformat": 4,
 "nbformat_minor": 4
}
