{
 "cells": [
  {
   "cell_type": "code",
   "execution_count": null,
   "metadata": {},
   "outputs": [],
   "source": [
    "from tqdm import tqdm_notebook\n",
    "import os\n",
    "import json\n",
    "os.chdir('../repos/darknet/')"
   ]
  },
  {
   "cell_type": "code",
   "execution_count": null,
   "metadata": {},
   "outputs": [],
   "source": [
    "!chmod +x ./darknet"
   ]
  },
  {
   "cell_type": "code",
   "execution_count": null,
   "metadata": {},
   "outputs": [],
   "source": [
    "!./darknet detector map data/obj.data cfg/yolo-obj.cfg backup/yolo-obj_last.weights"
   ]
  },
  {
   "cell_type": "code",
   "execution_count": null,
   "metadata": {},
   "outputs": [],
   "source": [
    "!./darknet detector test data/obj.data cfg/yolo-obj.cfg backup/yolo-obj_last.weights -ext_output -dont_show -out result.json < data/submission_test.txt > test_output_capture.txt"
   ]
  },
  {
   "cell_type": "code",
   "execution_count": null,
   "metadata": {},
   "outputs": [],
   "source": [
    "with open('test_output_capture.txt') as out:\n",
    "    data = out.read()"
   ]
  },
  {
   "cell_type": "code",
   "execution_count": null,
   "metadata": {},
   "outputs": [],
   "source": [
    "#submission code\n",
    "mapping = {\n",
    "  'paragraph':0,\n",
    "  'dropdown':1,\n",
    "  'checkbox':2,\n",
    "  'radiobutton':3,\n",
    "  'rating':4,\n",
    "  'toggle':5,\n",
    "  'textarea':6,\n",
    "  'datepicker':7,\n",
    "  'stepperinput':8,\n",
    "  'slider':9,\n",
    "  'video':10,\n",
    "  'label':11,\n",
    "  'table':12,\n",
    "  'list':13,\n",
    "  'header':14,\n",
    "  'button':15,\n",
    "  'image':16,\n",
    "  'linebreak':17,\n",
    "  'container':18,\n",
    "  'link':19,\n",
    "  'textinput':20\n",
    "}\n",
    "coco = []\n",
    "img_id = ''\n",
    "for line in tqdm_notebook(data.split('\\n')):\n",
    "    if 'Enter Image Path:' in line:\n",
    "        img_path = line.split(' ')[3].split(':')[0]\n",
    "        img_id = img_path.split('/')[-1].split('.')[0]\n",
    "    elif 'left_x:' in line:\n",
    "        strstr = line\n",
    "        log = strstr.split('\\t')\n",
    "        class_name = log[0].split(':')[0]\n",
    "        score = log[0].split(':')[1].split('%')[0]\n",
    "        left_x = int(strstr.split('left_x:')[1].split('top_y:')[0])\n",
    "        top_y = int(strstr.split('top_y:')[1].split('width:')[0])\n",
    "        width = int(strstr.split('width:')[1].split('height:')[0])\n",
    "        height = int(strstr.split('height:')[1].split(')')[0])\n",
    "\n",
    "        obj = {\n",
    "            'image_id': img_id,\n",
    "            'category_id': mapping[class_name],\n",
    "            'bbox': [left_x, top_y, width, height],\n",
    "            'score': int(score)/100\n",
    "        }\n",
    "        coco.append(obj)"
   ]
  },
  {
   "cell_type": "code",
   "execution_count": null,
   "metadata": {},
   "outputs": [],
   "source": [
    "with open('../../results/yolo_predictions.json','wt') as out:\n",
    "    json.dump(coco,out)"
   ]
  }
 ],
 "metadata": {
  "kernelspec": {
   "display_name": "Python 3",
   "language": "python",
   "name": "python3"
  },
  "language_info": {
   "codemirror_mode": {
    "name": "ipython",
    "version": 3
   },
   "file_extension": ".py",
   "mimetype": "text/x-python",
   "name": "python",
   "nbconvert_exporter": "python",
   "pygments_lexer": "ipython3",
   "version": "3.7.7"
  }
 },
 "nbformat": 4,
 "nbformat_minor": 4
}
