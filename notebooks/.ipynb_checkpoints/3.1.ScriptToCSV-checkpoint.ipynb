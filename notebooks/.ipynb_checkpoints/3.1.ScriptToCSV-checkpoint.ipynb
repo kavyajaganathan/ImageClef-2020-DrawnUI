{
 "cells": [
  {
   "cell_type": "code",
   "execution_count": 0,
   "metadata": {
    "colab": {},
    "colab_type": "code",
    "id": "fq7Qm5dli54-"
   },
   "outputs": [],
   "source": [
    "import os\n",
    "import json\n",
    "import numpy as np\n",
    "import pandas as pd\n",
    "import csv"
   ]
  },
  {
   "cell_type": "code",
   "execution_count": 2,
   "metadata": {
    "colab": {
     "base_uri": "https://localhost:8080/",
     "height": 34
    },
    "colab_type": "code",
    "executionInfo": {
     "elapsed": 631,
     "status": "ok",
     "timestamp": 1591345009447,
     "user": {
      "displayName": "Naveen Narayanan",
      "photoUrl": "",
      "userId": "14894238330134112731"
     },
     "user_tz": -330
    },
    "id": "J_67oEfXQhEg",
    "outputId": "674fb730-e299-4362-8568-5a995bbf028c"
   },
   "outputs": [
    {
     "data": {
      "text/plain": [
       "176100"
      ]
     },
     "execution_count": 2,
     "metadata": {
      "tags": []
     },
     "output_type": "execute_result"
    }
   ],
   "source": [
    "300 * 587"
   ]
  },
  {
   "cell_type": "code",
   "execution_count": 0,
   "metadata": {
    "colab": {},
    "colab_type": "code",
    "id": "t7c5snOhJ7s7"
   },
   "outputs": [],
   "source": [
    "#SUBMISSION FILE CREATION CODE\n",
    "predictionsjson_path = '/content/drive/My Drive/DrawnUI/submissions/jsons/fudion_t-3.json' \n",
    "outFile_path = '/content/drive/My Drive/DrawnUI/submissions/txts/fudion_t-3_converted.txt'\n",
    "is_gt = 0"
   ]
  },
  {
   "cell_type": "code",
   "execution_count": 4,
   "metadata": {
    "colab": {
     "base_uri": "https://localhost:8080/",
     "height": 54
    },
    "colab_type": "code",
    "executionInfo": {
     "elapsed": 580,
     "status": "ok",
     "timestamp": 1591345011254,
     "user": {
      "displayName": "Naveen Narayanan",
      "photoUrl": "",
      "userId": "14894238330134112731"
     },
     "user_tz": -330
    },
    "id": "zQoUF-sVptqY",
    "outputId": "c8efa332-b564-47dc-87e1-979cb0fd69c7"
   },
   "outputs": [
    {
     "name": "stdout",
     "output_type": "stream",
     "text": [
      "Drive already mounted at /content/drive; to attempt to forcibly remount, call drive.mount(\"/content/drive\", force_remount=True).\n"
     ]
    }
   ],
   "source": [
    "from google.colab import drive\n",
    "drive.mount('/content/drive')"
   ]
  },
  {
   "cell_type": "code",
   "execution_count": 0,
   "metadata": {
    "colab": {},
    "colab_type": "code",
    "id": "6-Rw3JkjJhcx"
   },
   "outputs": [],
   "source": [
    "with open(predictionsjson_path) as f:\n",
    "  predictionsjson = json.load(f)"
   ]
  },
  {
   "cell_type": "code",
   "execution_count": 6,
   "metadata": {
    "colab": {
     "base_uri": "https://localhost:8080/",
     "height": 136
    },
    "colab_type": "code",
    "executionInfo": {
     "elapsed": 541,
     "status": "ok",
     "timestamp": 1591345013882,
     "user": {
      "displayName": "Naveen Narayanan",
      "photoUrl": "",
      "userId": "14894238330134112731"
     },
     "user_tz": -330
    },
    "id": "KCMhcxtmNgA5",
    "outputId": "47c509d7-3016-422b-888f-80523b04d460"
   },
   "outputs": [
    {
     "data": {
      "text/plain": [
       "{'bbox': [1647.6619873046875,\n",
       "  711.6377563476562,\n",
       "  238.6414794921875,\n",
       "  37.78271484375],\n",
       " 'category_id': 0,\n",
       " 'image_id': 'b6fa38bc088d89a5',\n",
       " 'score': 0.8685754537582397}"
      ]
     },
     "execution_count": 6,
     "metadata": {
      "tags": []
     },
     "output_type": "execute_result"
    }
   ],
   "source": [
    "predictionsjson[0]"
   ]
  },
  {
   "cell_type": "code",
   "execution_count": 0,
   "metadata": {
    "colab": {},
    "colab_type": "code",
    "id": "eZLR09mmJkcl"
   },
   "outputs": [],
   "source": [
    "# predictionsjson = predictionsjson['annotations']"
   ]
  },
  {
   "cell_type": "code",
   "execution_count": 0,
   "metadata": {
    "colab": {},
    "colab_type": "code",
    "id": "hF-ZRpalS4Oi"
   },
   "outputs": [],
   "source": [
    "for i in predictionsjson:\n",
    "  i['bbox'] = [int(i['bbox'][0]),int(i['bbox'][1]),int(i['bbox'][2]),int(i['bbox'][3])]\n",
    "  if(i['bbox'][0]<0):\n",
    "    i['bbox'][0]=0\n",
    "  if(i['bbox'][1]<0):\n",
    "    i['bbox'][1]=0\n",
    "  #width  \n",
    "  if(i['bbox'][2]>4032):\n",
    "    i['bbox'][2]=4032\n",
    "  if(i['bbox'][2]<0):\n",
    "    i['bbox'][2]=0\n",
    "  \n",
    "  #height\n",
    "  if(i['bbox'][3]>3024):\n",
    "    i['bbox'][3]=3024  \n",
    "  if(i['bbox'][3]<0):\n",
    "    i['bbox'][3]=0  "
   ]
  },
  {
   "cell_type": "code",
   "execution_count": 0,
   "metadata": {
    "colab": {},
    "colab_type": "code",
    "id": "NBwOjKVPgfu4"
   },
   "outputs": [],
   "source": [
    "# with open(predictionsjson_path) as f:\n",
    "#   predictionsjson = json.load(f)\n",
    "\n",
    " \n",
    "\n",
    "\n",
    "category_id_mapper = {\n",
    "    'paragraph' : 0,\n",
    "    'dropdown' : 1,\n",
    "    'checkbox' : 2,\n",
    "    'radiobutton' : 3,\n",
    "    'rating' : 4,\n",
    "    'toggle' : 5,\n",
    "    'textarea' : 6,\n",
    "    'datepicker' : 7,\n",
    "    'stepperinput' : 8,\n",
    "    'slider' : 9,\n",
    "    'video' : 10,\n",
    "    'label' : 11,\n",
    "    'table' : 12,\n",
    "    'list' : 13,\n",
    "    'header' : 14,\n",
    "    'button' : 15,\n",
    "    'image' : 16,\n",
    "    'linebreak' : 17,\n",
    "    'container' : 18,\n",
    "    'link' : 19,\n",
    "    'textinput' : 20\n",
    "}\n",
    "rev_mapper = {\n",
    "  \n",
    "   0:  'paragraph',\n",
    "    1: 'dropdown',\n",
    "    2: 'checkbox',\n",
    "    3: 'radiobutton',\n",
    "    4: 'rating',\n",
    "    5: 'toggle',\n",
    "    6: 'textarea',\n",
    "    7: 'datepicker',\n",
    "    8: 'stepperinput',\n",
    "    9: 'slider',\n",
    "    10: 'video',\n",
    "    11: 'label',\n",
    "    12: 'table',\n",
    "    13: 'list',\n",
    "    14: 'header',\n",
    "    15: 'button',\n",
    "    16: 'image',\n",
    "    17: 'linebreak',\n",
    "    18: 'container',\n",
    "    19: 'link',\n",
    "    20: 'textinput'    \n",
    "}  \n",
    "labels = [\n",
    "    'id',\n",
    "    'paragraph',\n",
    "    'dropdown',\n",
    "    'checkbox',\n",
    "    'radiobutton',\n",
    "    'rating',\n",
    "    'toggle',\n",
    "    'textarea',\n",
    "    'datepicker',\n",
    "    'stepperinput',\n",
    "    'slider',\n",
    "    'video',\n",
    "    'label',\n",
    "    'table',\n",
    "    'list',\n",
    "    'header',\n",
    "    'button',\n",
    "    'image',\n",
    "    'linebreak',\n",
    "    'container',\n",
    "    'link',\n",
    "    'textinput' \n",
    "]"
   ]
  },
  {
   "cell_type": "code",
   "execution_count": 10,
   "metadata": {
    "colab": {
     "base_uri": "https://localhost:8080/",
     "height": 71
    },
    "colab_type": "code",
    "executionInfo": {
     "elapsed": 1012,
     "status": "ok",
     "timestamp": 1591345018529,
     "user": {
      "displayName": "Naveen Narayanan",
      "photoUrl": "",
      "userId": "14894238330134112731"
     },
     "user_tz": -330
    },
    "id": "FmWaSrfE6Xp6",
    "outputId": "4b69923e-3628-4165-cba2-e19203cdcc59"
   },
   "outputs": [
    {
     "name": "stdout",
     "output_type": "stream",
     "text": [
      "16461\n",
      "{'image_id': 'b6fa38bc088d89a5', 'category_id': 0, 'bbox': [1647, 711, 238, 37], 'score': 0.8685754537582397}\n"
     ]
    }
   ],
   "source": [
    "print(len(predictionsjson))\n",
    "print(predictionsjson[0])"
   ]
  },
  {
   "cell_type": "code",
   "execution_count": 11,
   "metadata": {
    "colab": {
     "base_uri": "https://localhost:8080/",
     "height": 34
    },
    "colab_type": "code",
    "executionInfo": {
     "elapsed": 4421,
     "status": "ok",
     "timestamp": 1591345023607,
     "user": {
      "displayName": "Naveen Narayanan",
      "photoUrl": "",
      "userId": "14894238330134112731"
     },
     "user_tz": -330
    },
    "id": "jxug0CPtzcDx",
    "outputId": "a43cab66-f1bd-4b3a-8a58-8efdf0c90b90"
   },
   "outputs": [
    {
     "name": "stdout",
     "output_type": "stream",
     "text": [
      "No of images  587\n"
     ]
    }
   ],
   "source": [
    "submission = pd.DataFrame(columns = labels)\n",
    "\n",
    "unique_images = []\n",
    "for i in predictionsjson:\n",
    "  x = i['image_id'] + \".jpg\"\n",
    "  if(x not in unique_images):\n",
    "    unique_images.append(x)\n",
    "\n",
    "print(\"No of images \", len(unique_images))\n",
    "\n",
    "for i in range(len(unique_images)):\n",
    "  submission.loc[i] = [unique_images[i]] + [';' for p in range(21)]"
   ]
  },
  {
   "cell_type": "code",
   "execution_count": 12,
   "metadata": {
    "colab": {
     "base_uri": "https://localhost:8080/",
     "height": 34
    },
    "colab_type": "code",
    "executionInfo": {
     "elapsed": 3091,
     "status": "ok",
     "timestamp": 1591345023608,
     "user": {
      "displayName": "Naveen Narayanan",
      "photoUrl": "",
      "userId": "14894238330134112731"
     },
     "user_tz": -330
    },
    "id": "GlvuUwWoJKuS",
    "outputId": "c7b12650-b3c9-4636-933f-e65cb94f38a0"
   },
   "outputs": [
    {
     "data": {
      "text/plain": [
       "'22b0ab01d6974438.jpg'"
      ]
     },
     "execution_count": 12,
     "metadata": {
      "tags": []
     },
     "output_type": "execute_result"
    }
   ],
   "source": [
    "unique_images[10]"
   ]
  },
  {
   "cell_type": "code",
   "execution_count": 13,
   "metadata": {
    "colab": {
     "base_uri": "https://localhost:8080/",
     "height": 439
    },
    "colab_type": "code",
    "executionInfo": {
     "elapsed": 2197,
     "status": "ok",
     "timestamp": 1591345023611,
     "user": {
      "displayName": "Naveen Narayanan",
      "photoUrl": "",
      "userId": "14894238330134112731"
     },
     "user_tz": -330
    },
    "id": "8ODgKKAY6eOx",
    "outputId": "fff24a8a-abf6-49cc-98d5-78d700a56afd"
   },
   "outputs": [
    {
     "data": {
      "text/html": [
       "<div>\n",
       "<style scoped>\n",
       "    .dataframe tbody tr th:only-of-type {\n",
       "        vertical-align: middle;\n",
       "    }\n",
       "\n",
       "    .dataframe tbody tr th {\n",
       "        vertical-align: top;\n",
       "    }\n",
       "\n",
       "    .dataframe thead th {\n",
       "        text-align: right;\n",
       "    }\n",
       "</style>\n",
       "<table border=\"1\" class=\"dataframe\">\n",
       "  <thead>\n",
       "    <tr style=\"text-align: right;\">\n",
       "      <th></th>\n",
       "      <th>id</th>\n",
       "      <th>paragraph</th>\n",
       "      <th>dropdown</th>\n",
       "      <th>checkbox</th>\n",
       "      <th>radiobutton</th>\n",
       "      <th>rating</th>\n",
       "      <th>toggle</th>\n",
       "      <th>textarea</th>\n",
       "      <th>datepicker</th>\n",
       "      <th>stepperinput</th>\n",
       "      <th>slider</th>\n",
       "      <th>video</th>\n",
       "      <th>label</th>\n",
       "      <th>table</th>\n",
       "      <th>list</th>\n",
       "      <th>header</th>\n",
       "      <th>button</th>\n",
       "      <th>image</th>\n",
       "      <th>linebreak</th>\n",
       "      <th>container</th>\n",
       "      <th>link</th>\n",
       "      <th>textinput</th>\n",
       "    </tr>\n",
       "  </thead>\n",
       "  <tbody>\n",
       "    <tr>\n",
       "      <th>0</th>\n",
       "      <td>b6fa38bc088d89a5.jpg</td>\n",
       "      <td>;</td>\n",
       "      <td>;</td>\n",
       "      <td>;</td>\n",
       "      <td>;</td>\n",
       "      <td>;</td>\n",
       "      <td>;</td>\n",
       "      <td>;</td>\n",
       "      <td>;</td>\n",
       "      <td>;</td>\n",
       "      <td>;</td>\n",
       "      <td>;</td>\n",
       "      <td>;</td>\n",
       "      <td>;</td>\n",
       "      <td>;</td>\n",
       "      <td>;</td>\n",
       "      <td>;</td>\n",
       "      <td>;</td>\n",
       "      <td>;</td>\n",
       "      <td>;</td>\n",
       "      <td>;</td>\n",
       "      <td>;</td>\n",
       "    </tr>\n",
       "    <tr>\n",
       "      <th>1</th>\n",
       "      <td>508280a68ed1c8e9.jpg</td>\n",
       "      <td>;</td>\n",
       "      <td>;</td>\n",
       "      <td>;</td>\n",
       "      <td>;</td>\n",
       "      <td>;</td>\n",
       "      <td>;</td>\n",
       "      <td>;</td>\n",
       "      <td>;</td>\n",
       "      <td>;</td>\n",
       "      <td>;</td>\n",
       "      <td>;</td>\n",
       "      <td>;</td>\n",
       "      <td>;</td>\n",
       "      <td>;</td>\n",
       "      <td>;</td>\n",
       "      <td>;</td>\n",
       "      <td>;</td>\n",
       "      <td>;</td>\n",
       "      <td>;</td>\n",
       "      <td>;</td>\n",
       "      <td>;</td>\n",
       "    </tr>\n",
       "    <tr>\n",
       "      <th>2</th>\n",
       "      <td>d238a6436268223e.jpg</td>\n",
       "      <td>;</td>\n",
       "      <td>;</td>\n",
       "      <td>;</td>\n",
       "      <td>;</td>\n",
       "      <td>;</td>\n",
       "      <td>;</td>\n",
       "      <td>;</td>\n",
       "      <td>;</td>\n",
       "      <td>;</td>\n",
       "      <td>;</td>\n",
       "      <td>;</td>\n",
       "      <td>;</td>\n",
       "      <td>;</td>\n",
       "      <td>;</td>\n",
       "      <td>;</td>\n",
       "      <td>;</td>\n",
       "      <td>;</td>\n",
       "      <td>;</td>\n",
       "      <td>;</td>\n",
       "      <td>;</td>\n",
       "      <td>;</td>\n",
       "    </tr>\n",
       "    <tr>\n",
       "      <th>3</th>\n",
       "      <td>bf70e32f7658601d.jpg</td>\n",
       "      <td>;</td>\n",
       "      <td>;</td>\n",
       "      <td>;</td>\n",
       "      <td>;</td>\n",
       "      <td>;</td>\n",
       "      <td>;</td>\n",
       "      <td>;</td>\n",
       "      <td>;</td>\n",
       "      <td>;</td>\n",
       "      <td>;</td>\n",
       "      <td>;</td>\n",
       "      <td>;</td>\n",
       "      <td>;</td>\n",
       "      <td>;</td>\n",
       "      <td>;</td>\n",
       "      <td>;</td>\n",
       "      <td>;</td>\n",
       "      <td>;</td>\n",
       "      <td>;</td>\n",
       "      <td>;</td>\n",
       "      <td>;</td>\n",
       "    </tr>\n",
       "    <tr>\n",
       "      <th>4</th>\n",
       "      <td>2f2f6e7c129308d2.jpg</td>\n",
       "      <td>;</td>\n",
       "      <td>;</td>\n",
       "      <td>;</td>\n",
       "      <td>;</td>\n",
       "      <td>;</td>\n",
       "      <td>;</td>\n",
       "      <td>;</td>\n",
       "      <td>;</td>\n",
       "      <td>;</td>\n",
       "      <td>;</td>\n",
       "      <td>;</td>\n",
       "      <td>;</td>\n",
       "      <td>;</td>\n",
       "      <td>;</td>\n",
       "      <td>;</td>\n",
       "      <td>;</td>\n",
       "      <td>;</td>\n",
       "      <td>;</td>\n",
       "      <td>;</td>\n",
       "      <td>;</td>\n",
       "      <td>;</td>\n",
       "    </tr>\n",
       "    <tr>\n",
       "      <th>...</th>\n",
       "      <td>...</td>\n",
       "      <td>...</td>\n",
       "      <td>...</td>\n",
       "      <td>...</td>\n",
       "      <td>...</td>\n",
       "      <td>...</td>\n",
       "      <td>...</td>\n",
       "      <td>...</td>\n",
       "      <td>...</td>\n",
       "      <td>...</td>\n",
       "      <td>...</td>\n",
       "      <td>...</td>\n",
       "      <td>...</td>\n",
       "      <td>...</td>\n",
       "      <td>...</td>\n",
       "      <td>...</td>\n",
       "      <td>...</td>\n",
       "      <td>...</td>\n",
       "      <td>...</td>\n",
       "      <td>...</td>\n",
       "      <td>...</td>\n",
       "      <td>...</td>\n",
       "    </tr>\n",
       "    <tr>\n",
       "      <th>582</th>\n",
       "      <td>999816c26f78f128.jpg</td>\n",
       "      <td>;</td>\n",
       "      <td>;</td>\n",
       "      <td>;</td>\n",
       "      <td>;</td>\n",
       "      <td>;</td>\n",
       "      <td>;</td>\n",
       "      <td>;</td>\n",
       "      <td>;</td>\n",
       "      <td>;</td>\n",
       "      <td>;</td>\n",
       "      <td>;</td>\n",
       "      <td>;</td>\n",
       "      <td>;</td>\n",
       "      <td>;</td>\n",
       "      <td>;</td>\n",
       "      <td>;</td>\n",
       "      <td>;</td>\n",
       "      <td>;</td>\n",
       "      <td>;</td>\n",
       "      <td>;</td>\n",
       "      <td>;</td>\n",
       "    </tr>\n",
       "    <tr>\n",
       "      <th>583</th>\n",
       "      <td>1879b3ef55c7f3bb.jpg</td>\n",
       "      <td>;</td>\n",
       "      <td>;</td>\n",
       "      <td>;</td>\n",
       "      <td>;</td>\n",
       "      <td>;</td>\n",
       "      <td>;</td>\n",
       "      <td>;</td>\n",
       "      <td>;</td>\n",
       "      <td>;</td>\n",
       "      <td>;</td>\n",
       "      <td>;</td>\n",
       "      <td>;</td>\n",
       "      <td>;</td>\n",
       "      <td>;</td>\n",
       "      <td>;</td>\n",
       "      <td>;</td>\n",
       "      <td>;</td>\n",
       "      <td>;</td>\n",
       "      <td>;</td>\n",
       "      <td>;</td>\n",
       "      <td>;</td>\n",
       "    </tr>\n",
       "    <tr>\n",
       "      <th>584</th>\n",
       "      <td>2fd1b54c1fb1f0aa.jpg</td>\n",
       "      <td>;</td>\n",
       "      <td>;</td>\n",
       "      <td>;</td>\n",
       "      <td>;</td>\n",
       "      <td>;</td>\n",
       "      <td>;</td>\n",
       "      <td>;</td>\n",
       "      <td>;</td>\n",
       "      <td>;</td>\n",
       "      <td>;</td>\n",
       "      <td>;</td>\n",
       "      <td>;</td>\n",
       "      <td>;</td>\n",
       "      <td>;</td>\n",
       "      <td>;</td>\n",
       "      <td>;</td>\n",
       "      <td>;</td>\n",
       "      <td>;</td>\n",
       "      <td>;</td>\n",
       "      <td>;</td>\n",
       "      <td>;</td>\n",
       "    </tr>\n",
       "    <tr>\n",
       "      <th>585</th>\n",
       "      <td>aa178b35cf08f3d5.jpg</td>\n",
       "      <td>;</td>\n",
       "      <td>;</td>\n",
       "      <td>;</td>\n",
       "      <td>;</td>\n",
       "      <td>;</td>\n",
       "      <td>;</td>\n",
       "      <td>;</td>\n",
       "      <td>;</td>\n",
       "      <td>;</td>\n",
       "      <td>;</td>\n",
       "      <td>;</td>\n",
       "      <td>;</td>\n",
       "      <td>;</td>\n",
       "      <td>;</td>\n",
       "      <td>;</td>\n",
       "      <td>;</td>\n",
       "      <td>;</td>\n",
       "      <td>;</td>\n",
       "      <td>;</td>\n",
       "      <td>;</td>\n",
       "      <td>;</td>\n",
       "    </tr>\n",
       "    <tr>\n",
       "      <th>586</th>\n",
       "      <td>846c3d2e45c9b72a.jpg</td>\n",
       "      <td>;</td>\n",
       "      <td>;</td>\n",
       "      <td>;</td>\n",
       "      <td>;</td>\n",
       "      <td>;</td>\n",
       "      <td>;</td>\n",
       "      <td>;</td>\n",
       "      <td>;</td>\n",
       "      <td>;</td>\n",
       "      <td>;</td>\n",
       "      <td>;</td>\n",
       "      <td>;</td>\n",
       "      <td>;</td>\n",
       "      <td>;</td>\n",
       "      <td>;</td>\n",
       "      <td>;</td>\n",
       "      <td>;</td>\n",
       "      <td>;</td>\n",
       "      <td>;</td>\n",
       "      <td>;</td>\n",
       "      <td>;</td>\n",
       "    </tr>\n",
       "  </tbody>\n",
       "</table>\n",
       "<p>587 rows × 22 columns</p>\n",
       "</div>"
      ],
      "text/plain": [
       "                       id paragraph dropdown  ... container link textinput\n",
       "0    b6fa38bc088d89a5.jpg         ;        ;  ...         ;    ;         ;\n",
       "1    508280a68ed1c8e9.jpg         ;        ;  ...         ;    ;         ;\n",
       "2    d238a6436268223e.jpg         ;        ;  ...         ;    ;         ;\n",
       "3    bf70e32f7658601d.jpg         ;        ;  ...         ;    ;         ;\n",
       "4    2f2f6e7c129308d2.jpg         ;        ;  ...         ;    ;         ;\n",
       "..                    ...       ...      ...  ...       ...  ...       ...\n",
       "582  999816c26f78f128.jpg         ;        ;  ...         ;    ;         ;\n",
       "583  1879b3ef55c7f3bb.jpg         ;        ;  ...         ;    ;         ;\n",
       "584  2fd1b54c1fb1f0aa.jpg         ;        ;  ...         ;    ;         ;\n",
       "585  aa178b35cf08f3d5.jpg         ;        ;  ...         ;    ;         ;\n",
       "586  846c3d2e45c9b72a.jpg         ;        ;  ...         ;    ;         ;\n",
       "\n",
       "[587 rows x 22 columns]"
      ]
     },
     "execution_count": 13,
     "metadata": {
      "tags": []
     },
     "output_type": "execute_result"
    }
   ],
   "source": [
    "submission"
   ]
  },
  {
   "cell_type": "code",
   "execution_count": 14,
   "metadata": {
    "colab": {
     "base_uri": "https://localhost:8080/",
     "height": 34
    },
    "colab_type": "code",
    "executionInfo": {
     "elapsed": 10644,
     "status": "ok",
     "timestamp": 1591345032890,
     "user": {
      "displayName": "Naveen Narayanan",
      "photoUrl": "",
      "userId": "14894238330134112731"
     },
     "user_tz": -330
    },
    "id": "xBxSz4D1zcKn",
    "outputId": "159e581b-c882-4a58-c023-40174c0a2c6a"
   },
   "outputs": [
    {
     "name": "stdout",
     "output_type": "stream",
     "text": [
      "Added all info to csv without ; \n"
     ]
    }
   ],
   "source": [
    "for i in predictionsjson:\n",
    "  box_label = rev_mapper[i['category_id']]\n",
    "  # print(i['category_id'])\n",
    "  # print(box_label)\n",
    "  #xMin,yMin,width,height\n",
    "  #widthxheight+xMin+yMin\n",
    "  if(is_gt == 1):\n",
    "    score_pred = 1\n",
    "  else:\n",
    "    score_pred = i['score']  \n",
    "  prediction_syntax = str(score_pred) +\":\"+ str(i['bbox'][2]) + \"x\" + str(i['bbox'][3]) + \"+\" + str(i['bbox'][0]) + \"+\" + str(i['bbox'][1])\n",
    "  # print(prediction_syntax) \n",
    "  # print(type(prediction_syntax))\n",
    "  ind = submission[submission['id']==(i['image_id']+\".jpg\")].index.tolist()[0]\n",
    "  if(submission.at[ind,box_label]==';'):\n",
    "    submission.at[ind,box_label] = box_label + \" \" + prediction_syntax\n",
    "  else:\n",
    "    submission.at[ind,box_label] =  submission.at[ind,box_label] + \",\" + prediction_syntax \n",
    "  \n",
    "print(\"Added all info to csv without ; \")\n",
    "\n",
    "# for i in range(0,submission.shape[0]):\n",
    "#   for j in labels:\n",
    "#     if(submission.at[i,j]!=';'):\n",
    "#       submission.at[i,j] = submission.at[i,j] + \";\"\n",
    "\n"
   ]
  },
  {
   "cell_type": "code",
   "execution_count": 15,
   "metadata": {
    "colab": {
     "base_uri": "https://localhost:8080/",
     "height": 609
    },
    "colab_type": "code",
    "executionInfo": {
     "elapsed": 10015,
     "status": "ok",
     "timestamp": 1591345032891,
     "user": {
      "displayName": "Naveen Narayanan",
      "photoUrl": "",
      "userId": "14894238330134112731"
     },
     "user_tz": -330
    },
    "id": "h44Eu-gH7JhL",
    "outputId": "3c3873e6-174c-4651-98fe-9f5d1b48e9f0"
   },
   "outputs": [
    {
     "data": {
      "text/html": [
       "<div>\n",
       "<style scoped>\n",
       "    .dataframe tbody tr th:only-of-type {\n",
       "        vertical-align: middle;\n",
       "    }\n",
       "\n",
       "    .dataframe tbody tr th {\n",
       "        vertical-align: top;\n",
       "    }\n",
       "\n",
       "    .dataframe thead th {\n",
       "        text-align: right;\n",
       "    }\n",
       "</style>\n",
       "<table border=\"1\" class=\"dataframe\">\n",
       "  <thead>\n",
       "    <tr style=\"text-align: right;\">\n",
       "      <th></th>\n",
       "      <th>id</th>\n",
       "      <th>paragraph</th>\n",
       "      <th>dropdown</th>\n",
       "      <th>checkbox</th>\n",
       "      <th>radiobutton</th>\n",
       "      <th>rating</th>\n",
       "      <th>toggle</th>\n",
       "      <th>textarea</th>\n",
       "      <th>datepicker</th>\n",
       "      <th>stepperinput</th>\n",
       "      <th>slider</th>\n",
       "      <th>video</th>\n",
       "      <th>label</th>\n",
       "      <th>table</th>\n",
       "      <th>list</th>\n",
       "      <th>header</th>\n",
       "      <th>button</th>\n",
       "      <th>image</th>\n",
       "      <th>linebreak</th>\n",
       "      <th>container</th>\n",
       "      <th>link</th>\n",
       "      <th>textinput</th>\n",
       "    </tr>\n",
       "  </thead>\n",
       "  <tbody>\n",
       "    <tr>\n",
       "      <th>0</th>\n",
       "      <td>b6fa38bc088d89a5.jpg</td>\n",
       "      <td>paragraph 0.8685754537582397:238x37+1647+711,0...</td>\n",
       "      <td>;</td>\n",
       "      <td>;</td>\n",
       "      <td>;</td>\n",
       "      <td>rating 0.5249937772750854:283x60+1605+614</td>\n",
       "      <td>;</td>\n",
       "      <td>;</td>\n",
       "      <td>;</td>\n",
       "      <td>;</td>\n",
       "      <td>;</td>\n",
       "      <td>;</td>\n",
       "      <td>;</td>\n",
       "      <td>;</td>\n",
       "      <td>;</td>\n",
       "      <td>header 0.94:361x62+301+1146,1.0:294x69+414+449...</td>\n",
       "      <td>button 1.0:162x92+239+278,1.0:146x84+282+910,0...</td>\n",
       "      <td>image 1.0:2252x659+25+188</td>\n",
       "      <td>linebreak 0.927649974822998:1902x130+204+919,0...</td>\n",
       "      <td>container 0.961188018321991:2111x1456+101+136</td>\n",
       "      <td>;</td>\n",
       "      <td>;</td>\n",
       "    </tr>\n",
       "    <tr>\n",
       "      <th>1</th>\n",
       "      <td>508280a68ed1c8e9.jpg</td>\n",
       "      <td>paragraph 0.7505806684494019:464x35+426+823,0....</td>\n",
       "      <td>;</td>\n",
       "      <td>;</td>\n",
       "      <td>radiobutton 0.5958633422851562:31x26+978+667</td>\n",
       "      <td>;</td>\n",
       "      <td>;</td>\n",
       "      <td>;</td>\n",
       "      <td>;</td>\n",
       "      <td>;</td>\n",
       "      <td>;</td>\n",
       "      <td>;</td>\n",
       "      <td>;</td>\n",
       "      <td>;</td>\n",
       "      <td>;</td>\n",
       "      <td>header 0.96:309x48+309+484,0.53:509x57+375+666</td>\n",
       "      <td>button 1.0:542x104+565+1615,1.0:432x92+606+180...</td>\n",
       "      <td>image 0.99:74x48+679+474</td>\n",
       "      <td>linebreak 0.9259003400802612:1116x52+310+620,0...</td>\n",
       "      <td>container 0.99309241771698:1236x1833+274+247,0...</td>\n",
       "      <td>link 0.99:234x95+716+925</td>\n",
       "      <td>;</td>\n",
       "    </tr>\n",
       "    <tr>\n",
       "      <th>2</th>\n",
       "      <td>d238a6436268223e.jpg</td>\n",
       "      <td>paragraph 0.8914610147476196:103x123+264+1059,...</td>\n",
       "      <td>;</td>\n",
       "      <td>;</td>\n",
       "      <td>;</td>\n",
       "      <td>;</td>\n",
       "      <td>;</td>\n",
       "      <td>;</td>\n",
       "      <td>;</td>\n",
       "      <td>;</td>\n",
       "      <td>;</td>\n",
       "      <td>;</td>\n",
       "      <td>;</td>\n",
       "      <td>;</td>\n",
       "      <td>;</td>\n",
       "      <td>header 0.97:121x31+249+783,0.97:137x36+259+100...</td>\n",
       "      <td>button 0.99:64x37+304+350,1.0:81x43+311+259,1....</td>\n",
       "      <td>image 0.92:54x36+523+1184,0.99:73x43+526+1025,...</td>\n",
       "      <td>linebreak 0.8650826215744019:496x27+542+975,0....</td>\n",
       "      <td>container 0.9915062785148621:491x587+1235+644,...</td>\n",
       "      <td>link 0.97:92x33+631+1120,0.97:83x36+639+904,0....</td>\n",
       "      <td>;</td>\n",
       "    </tr>\n",
       "    <tr>\n",
       "      <th>3</th>\n",
       "      <td>bf70e32f7658601d.jpg</td>\n",
       "      <td>paragraph 0.9707154035568237:142x61+550+888,0....</td>\n",
       "      <td>;</td>\n",
       "      <td>;</td>\n",
       "      <td>;</td>\n",
       "      <td>;</td>\n",
       "      <td>;</td>\n",
       "      <td>;</td>\n",
       "      <td>;</td>\n",
       "      <td>;</td>\n",
       "      <td>;</td>\n",
       "      <td>;</td>\n",
       "      <td>;</td>\n",
       "      <td>;</td>\n",
       "      <td>;</td>\n",
       "      <td>header 0.82:151x45+436+685,1.0:265x64+483+1018...</td>\n",
       "      <td>button 1.0:124x75+446+367,1.0:108x64+942+338</td>\n",
       "      <td>;</td>\n",
       "      <td>linebreak 0.949711799621582:689x78+410+424</td>\n",
       "      <td>container 0.9929119348526001:780x1195+403+273</td>\n",
       "      <td>link 1.0:196x66+617+766,1.0:195x71+622+690,1.0...</td>\n",
       "      <td>;</td>\n",
       "    </tr>\n",
       "    <tr>\n",
       "      <th>4</th>\n",
       "      <td>2f2f6e7c129308d2.jpg</td>\n",
       "      <td>paragraph 0.8675763010978699:131x22+540+419</td>\n",
       "      <td>;</td>\n",
       "      <td>;</td>\n",
       "      <td>;</td>\n",
       "      <td>;</td>\n",
       "      <td>;</td>\n",
       "      <td>;</td>\n",
       "      <td>;</td>\n",
       "      <td>;</td>\n",
       "      <td>;</td>\n",
       "      <td>;</td>\n",
       "      <td>label 0.25:174x66+1202+362</td>\n",
       "      <td>;</td>\n",
       "      <td>;</td>\n",
       "      <td>header 0.54:962x77+360+714</td>\n",
       "      <td>button 0.99:159x55+350+401,1.0:150x61+650+1369...</td>\n",
       "      <td>;</td>\n",
       "      <td>;</td>\n",
       "      <td>container 0.9933208227157593:1150x1754+304+310...</td>\n",
       "      <td>;</td>\n",
       "      <td>;</td>\n",
       "    </tr>\n",
       "    <tr>\n",
       "      <th>...</th>\n",
       "      <td>...</td>\n",
       "      <td>...</td>\n",
       "      <td>...</td>\n",
       "      <td>...</td>\n",
       "      <td>...</td>\n",
       "      <td>...</td>\n",
       "      <td>...</td>\n",
       "      <td>...</td>\n",
       "      <td>...</td>\n",
       "      <td>...</td>\n",
       "      <td>...</td>\n",
       "      <td>...</td>\n",
       "      <td>...</td>\n",
       "      <td>...</td>\n",
       "      <td>...</td>\n",
       "      <td>...</td>\n",
       "      <td>...</td>\n",
       "      <td>...</td>\n",
       "      <td>...</td>\n",
       "      <td>...</td>\n",
       "      <td>...</td>\n",
       "      <td>...</td>\n",
       "    </tr>\n",
       "    <tr>\n",
       "      <th>582</th>\n",
       "      <td>999816c26f78f128.jpg</td>\n",
       "      <td>;</td>\n",
       "      <td>;</td>\n",
       "      <td>;</td>\n",
       "      <td>;</td>\n",
       "      <td>;</td>\n",
       "      <td>;</td>\n",
       "      <td>;</td>\n",
       "      <td>;</td>\n",
       "      <td>;</td>\n",
       "      <td>;</td>\n",
       "      <td>;</td>\n",
       "      <td>;</td>\n",
       "      <td>;</td>\n",
       "      <td>;</td>\n",
       "      <td>;</td>\n",
       "      <td>button 1.0:183x100+325+1227,1.0:143x82+351+998...</td>\n",
       "      <td>image 0.95:826x1084+185+159</td>\n",
       "      <td>linebreak 0.4766712188720703:657x75+278+1133</td>\n",
       "      <td>;</td>\n",
       "      <td>;</td>\n",
       "      <td>;</td>\n",
       "    </tr>\n",
       "    <tr>\n",
       "      <th>583</th>\n",
       "      <td>1879b3ef55c7f3bb.jpg</td>\n",
       "      <td>;</td>\n",
       "      <td>;</td>\n",
       "      <td>;</td>\n",
       "      <td>;</td>\n",
       "      <td>;</td>\n",
       "      <td>;</td>\n",
       "      <td>;</td>\n",
       "      <td>;</td>\n",
       "      <td>;</td>\n",
       "      <td>;</td>\n",
       "      <td>;</td>\n",
       "      <td>;</td>\n",
       "      <td>;</td>\n",
       "      <td>;</td>\n",
       "      <td>;</td>\n",
       "      <td>button 1.0:167x99+443+1262,1.0:137x77+463+1054...</td>\n",
       "      <td>image 1.0:723x1125+311+239</td>\n",
       "      <td>linebreak 0.41873273253440857:620x83+391+1168</td>\n",
       "      <td>container 0.4678601622581482:674x1096+354+307</td>\n",
       "      <td>;</td>\n",
       "      <td>;</td>\n",
       "    </tr>\n",
       "    <tr>\n",
       "      <th>584</th>\n",
       "      <td>2fd1b54c1fb1f0aa.jpg</td>\n",
       "      <td>;</td>\n",
       "      <td>;</td>\n",
       "      <td>;</td>\n",
       "      <td>;</td>\n",
       "      <td>;</td>\n",
       "      <td>;</td>\n",
       "      <td>;</td>\n",
       "      <td>;</td>\n",
       "      <td>;</td>\n",
       "      <td>;</td>\n",
       "      <td>;</td>\n",
       "      <td>;</td>\n",
       "      <td>;</td>\n",
       "      <td>;</td>\n",
       "      <td>;</td>\n",
       "      <td>button 0.99:126x75+198+295,1.0:178x53+467+285,...</td>\n",
       "      <td>image 0.95:2186x1520+38+115</td>\n",
       "      <td>;</td>\n",
       "      <td>;</td>\n",
       "      <td>;</td>\n",
       "      <td>;</td>\n",
       "    </tr>\n",
       "    <tr>\n",
       "      <th>585</th>\n",
       "      <td>aa178b35cf08f3d5.jpg</td>\n",
       "      <td>;</td>\n",
       "      <td>;</td>\n",
       "      <td>;</td>\n",
       "      <td>;</td>\n",
       "      <td>;</td>\n",
       "      <td>;</td>\n",
       "      <td>;</td>\n",
       "      <td>;</td>\n",
       "      <td>;</td>\n",
       "      <td>;</td>\n",
       "      <td>;</td>\n",
       "      <td>;</td>\n",
       "      <td>;</td>\n",
       "      <td>;</td>\n",
       "      <td>;</td>\n",
       "      <td>button 1.0:105x61+115+128,1.0:140x42+332+128,1...</td>\n",
       "      <td>image 0.86:1681x1221+16+11</td>\n",
       "      <td>;</td>\n",
       "      <td>;</td>\n",
       "      <td>;</td>\n",
       "      <td>;</td>\n",
       "    </tr>\n",
       "    <tr>\n",
       "      <th>586</th>\n",
       "      <td>846c3d2e45c9b72a.jpg</td>\n",
       "      <td>;</td>\n",
       "      <td>;</td>\n",
       "      <td>;</td>\n",
       "      <td>;</td>\n",
       "      <td>;</td>\n",
       "      <td>;</td>\n",
       "      <td>;</td>\n",
       "      <td>;</td>\n",
       "      <td>;</td>\n",
       "      <td>;</td>\n",
       "      <td>;</td>\n",
       "      <td>;</td>\n",
       "      <td>;</td>\n",
       "      <td>;</td>\n",
       "      <td>;</td>\n",
       "      <td>button 1.0:98x60+275+1149,1.0:192x87+409+403,1...</td>\n",
       "      <td>image 0.98:596x691+263+343</td>\n",
       "      <td>;</td>\n",
       "      <td>container 0.9786159992218018:653x985+231+263,0...</td>\n",
       "      <td>;</td>\n",
       "      <td>;</td>\n",
       "    </tr>\n",
       "  </tbody>\n",
       "</table>\n",
       "<p>587 rows × 22 columns</p>\n",
       "</div>"
      ],
      "text/plain": [
       "                       id  ... textinput\n",
       "0    b6fa38bc088d89a5.jpg  ...         ;\n",
       "1    508280a68ed1c8e9.jpg  ...         ;\n",
       "2    d238a6436268223e.jpg  ...         ;\n",
       "3    bf70e32f7658601d.jpg  ...         ;\n",
       "4    2f2f6e7c129308d2.jpg  ...         ;\n",
       "..                    ...  ...       ...\n",
       "582  999816c26f78f128.jpg  ...         ;\n",
       "583  1879b3ef55c7f3bb.jpg  ...         ;\n",
       "584  2fd1b54c1fb1f0aa.jpg  ...         ;\n",
       "585  aa178b35cf08f3d5.jpg  ...         ;\n",
       "586  846c3d2e45c9b72a.jpg  ...         ;\n",
       "\n",
       "[587 rows x 22 columns]"
      ]
     },
     "execution_count": 15,
     "metadata": {
      "tags": []
     },
     "output_type": "execute_result"
    }
   ],
   "source": [
    "submission"
   ]
  },
  {
   "cell_type": "code",
   "execution_count": 16,
   "metadata": {
    "colab": {
     "base_uri": "https://localhost:8080/",
     "height": 34
    },
    "colab_type": "code",
    "executionInfo": {
     "elapsed": 9429,
     "status": "ok",
     "timestamp": 1591345032892,
     "user": {
      "displayName": "Naveen Narayanan",
      "photoUrl": "",
      "userId": "14894238330134112731"
     },
     "user_tz": -330
    },
    "id": "oqo583NV7RqU",
    "outputId": "17bbcea7-b1f7-4cb2-cb75-fce849a2f4c9"
   },
   "outputs": [
    {
     "data": {
      "text/plain": [
       "'paragraph 0.8842813372612:139x28+473+719'"
      ]
     },
     "execution_count": 16,
     "metadata": {
      "tags": []
     },
     "output_type": "execute_result"
    }
   ],
   "source": [
    "submission.at[471,'paragraph']"
   ]
  },
  {
   "cell_type": "code",
   "execution_count": 17,
   "metadata": {
    "colab": {
     "base_uri": "https://localhost:8080/",
     "height": 34
    },
    "colab_type": "code",
    "executionInfo": {
     "elapsed": 8605,
     "status": "ok",
     "timestamp": 1591345032893,
     "user": {
      "displayName": "Naveen Narayanan",
      "photoUrl": "",
      "userId": "14894238330134112731"
     },
     "user_tz": -330
    },
    "id": "y6eU2Jgr9lm-",
    "outputId": "8de5637a-93bf-4eeb-f618-f7471a5d181f"
   },
   "outputs": [
    {
     "name": "stdout",
     "output_type": "stream",
     "text": [
      "(587, 22)\n"
     ]
    }
   ],
   "source": [
    "print(submission.shape)"
   ]
  },
  {
   "cell_type": "code",
   "execution_count": 18,
   "metadata": {
    "colab": {
     "base_uri": "https://localhost:8080/",
     "height": 34
    },
    "colab_type": "code",
    "executionInfo": {
     "elapsed": 7959,
     "status": "ok",
     "timestamp": 1591345032894,
     "user": {
      "displayName": "Naveen Narayanan",
      "photoUrl": "",
      "userId": "14894238330134112731"
     },
     "user_tz": -330
    },
    "id": "Q91rIvU3zcQx",
    "outputId": "58fa2e0b-8222-47d2-a324-343975676ac9"
   },
   "outputs": [
    {
     "data": {
      "text/plain": [
       "587"
      ]
     },
     "execution_count": 18,
     "metadata": {
      "tags": []
     },
     "output_type": "execute_result"
    }
   ],
   "source": [
    "arr = [x for x in range(0,22)]\n",
    "all_image_predictions = []\n",
    "for i in range(0,submission.shape[0]):\n",
    "  image_predictions = []\n",
    "  for j in labels:\n",
    "    if(j=='id'):\n",
    "      image_predictions.append(submission.at[i,j])\n",
    "    else:\n",
    "      if(submission.at[i,j]!=';'):\n",
    "        image_predictions.append(submission.at[i,j])\n",
    "  if(len(image_predictions)==1):\n",
    "    print(image_predictions)\n",
    "  else:\n",
    "    image_predictions = np.array(image_predictions)\n",
    "    all_image_predictions.append(image_predictions)  \n",
    "\n",
    "all_image_np = np.array(all_image_predictions)\n",
    "len(all_image_np)"
   ]
  },
  {
   "cell_type": "code",
   "execution_count": 0,
   "metadata": {
    "colab": {},
    "colab_type": "code",
    "id": "Tvg5HvrfzcXi"
   },
   "outputs": [],
   "source": [
    "submission_new = pd.DataFrame(columns = arr)\n",
    "index_marker = 0\n",
    "for i in all_image_np:\n",
    "  inside_row = 0\n",
    "  submission_new.at[index_marker,inside_row] = i[0]\n",
    "  inside_row+=1\n",
    "  for j in i[1:]:\n",
    "    submission_new.at[index_marker,inside_row] = j\n",
    "    inside_row+=1\n",
    "  index_marker+=1  \n"
   ]
  },
  {
   "cell_type": "code",
   "execution_count": 20,
   "metadata": {
    "colab": {
     "base_uri": "https://localhost:8080/",
     "height": 609
    },
    "colab_type": "code",
    "executionInfo": {
     "elapsed": 7210,
     "status": "ok",
     "timestamp": 1591345033442,
     "user": {
      "displayName": "Naveen Narayanan",
      "photoUrl": "",
      "userId": "14894238330134112731"
     },
     "user_tz": -330
    },
    "id": "RAayOgFe8Cm3",
    "outputId": "5290929f-f372-44ff-b4a6-5c6ea3a25444"
   },
   "outputs": [
    {
     "data": {
      "text/html": [
       "<div>\n",
       "<style scoped>\n",
       "    .dataframe tbody tr th:only-of-type {\n",
       "        vertical-align: middle;\n",
       "    }\n",
       "\n",
       "    .dataframe tbody tr th {\n",
       "        vertical-align: top;\n",
       "    }\n",
       "\n",
       "    .dataframe thead th {\n",
       "        text-align: right;\n",
       "    }\n",
       "</style>\n",
       "<table border=\"1\" class=\"dataframe\">\n",
       "  <thead>\n",
       "    <tr style=\"text-align: right;\">\n",
       "      <th></th>\n",
       "      <th>0</th>\n",
       "      <th>1</th>\n",
       "      <th>2</th>\n",
       "      <th>3</th>\n",
       "      <th>4</th>\n",
       "      <th>5</th>\n",
       "      <th>6</th>\n",
       "      <th>7</th>\n",
       "      <th>8</th>\n",
       "      <th>9</th>\n",
       "      <th>10</th>\n",
       "      <th>11</th>\n",
       "      <th>12</th>\n",
       "      <th>13</th>\n",
       "      <th>14</th>\n",
       "      <th>15</th>\n",
       "      <th>16</th>\n",
       "      <th>17</th>\n",
       "      <th>18</th>\n",
       "      <th>19</th>\n",
       "      <th>20</th>\n",
       "      <th>21</th>\n",
       "    </tr>\n",
       "  </thead>\n",
       "  <tbody>\n",
       "    <tr>\n",
       "      <th>0</th>\n",
       "      <td>b6fa38bc088d89a5.jpg</td>\n",
       "      <td>paragraph 0.8685754537582397:238x37+1647+711,0...</td>\n",
       "      <td>rating 0.5249937772750854:283x60+1605+614</td>\n",
       "      <td>header 0.94:361x62+301+1146,1.0:294x69+414+449...</td>\n",
       "      <td>button 1.0:162x92+239+278,1.0:146x84+282+910,0...</td>\n",
       "      <td>image 1.0:2252x659+25+188</td>\n",
       "      <td>linebreak 0.927649974822998:1902x130+204+919,0...</td>\n",
       "      <td>container 0.961188018321991:2111x1456+101+136</td>\n",
       "      <td>NaN</td>\n",
       "      <td>NaN</td>\n",
       "      <td>NaN</td>\n",
       "      <td>NaN</td>\n",
       "      <td>NaN</td>\n",
       "      <td>NaN</td>\n",
       "      <td>NaN</td>\n",
       "      <td>NaN</td>\n",
       "      <td>NaN</td>\n",
       "      <td>NaN</td>\n",
       "      <td>NaN</td>\n",
       "      <td>NaN</td>\n",
       "      <td>NaN</td>\n",
       "      <td>NaN</td>\n",
       "    </tr>\n",
       "    <tr>\n",
       "      <th>1</th>\n",
       "      <td>508280a68ed1c8e9.jpg</td>\n",
       "      <td>paragraph 0.7505806684494019:464x35+426+823,0....</td>\n",
       "      <td>radiobutton 0.5958633422851562:31x26+978+667</td>\n",
       "      <td>header 0.96:309x48+309+484,0.53:509x57+375+666</td>\n",
       "      <td>button 1.0:542x104+565+1615,1.0:432x92+606+180...</td>\n",
       "      <td>image 0.99:74x48+679+474</td>\n",
       "      <td>linebreak 0.9259003400802612:1116x52+310+620,0...</td>\n",
       "      <td>container 0.99309241771698:1236x1833+274+247,0...</td>\n",
       "      <td>link 0.99:234x95+716+925</td>\n",
       "      <td>NaN</td>\n",
       "      <td>NaN</td>\n",
       "      <td>NaN</td>\n",
       "      <td>NaN</td>\n",
       "      <td>NaN</td>\n",
       "      <td>NaN</td>\n",
       "      <td>NaN</td>\n",
       "      <td>NaN</td>\n",
       "      <td>NaN</td>\n",
       "      <td>NaN</td>\n",
       "      <td>NaN</td>\n",
       "      <td>NaN</td>\n",
       "      <td>NaN</td>\n",
       "    </tr>\n",
       "    <tr>\n",
       "      <th>2</th>\n",
       "      <td>d238a6436268223e.jpg</td>\n",
       "      <td>paragraph 0.8914610147476196:103x123+264+1059,...</td>\n",
       "      <td>header 0.97:121x31+249+783,0.97:137x36+259+100...</td>\n",
       "      <td>button 0.99:64x37+304+350,1.0:81x43+311+259,1....</td>\n",
       "      <td>image 0.92:54x36+523+1184,0.99:73x43+526+1025,...</td>\n",
       "      <td>linebreak 0.8650826215744019:496x27+542+975,0....</td>\n",
       "      <td>container 0.9915062785148621:491x587+1235+644,...</td>\n",
       "      <td>link 0.97:92x33+631+1120,0.97:83x36+639+904,0....</td>\n",
       "      <td>NaN</td>\n",
       "      <td>NaN</td>\n",
       "      <td>NaN</td>\n",
       "      <td>NaN</td>\n",
       "      <td>NaN</td>\n",
       "      <td>NaN</td>\n",
       "      <td>NaN</td>\n",
       "      <td>NaN</td>\n",
       "      <td>NaN</td>\n",
       "      <td>NaN</td>\n",
       "      <td>NaN</td>\n",
       "      <td>NaN</td>\n",
       "      <td>NaN</td>\n",
       "      <td>NaN</td>\n",
       "    </tr>\n",
       "    <tr>\n",
       "      <th>3</th>\n",
       "      <td>bf70e32f7658601d.jpg</td>\n",
       "      <td>paragraph 0.9707154035568237:142x61+550+888,0....</td>\n",
       "      <td>header 0.82:151x45+436+685,1.0:265x64+483+1018...</td>\n",
       "      <td>button 1.0:124x75+446+367,1.0:108x64+942+338</td>\n",
       "      <td>linebreak 0.949711799621582:689x78+410+424</td>\n",
       "      <td>container 0.9929119348526001:780x1195+403+273</td>\n",
       "      <td>link 1.0:196x66+617+766,1.0:195x71+622+690,1.0...</td>\n",
       "      <td>NaN</td>\n",
       "      <td>NaN</td>\n",
       "      <td>NaN</td>\n",
       "      <td>NaN</td>\n",
       "      <td>NaN</td>\n",
       "      <td>NaN</td>\n",
       "      <td>NaN</td>\n",
       "      <td>NaN</td>\n",
       "      <td>NaN</td>\n",
       "      <td>NaN</td>\n",
       "      <td>NaN</td>\n",
       "      <td>NaN</td>\n",
       "      <td>NaN</td>\n",
       "      <td>NaN</td>\n",
       "      <td>NaN</td>\n",
       "    </tr>\n",
       "    <tr>\n",
       "      <th>4</th>\n",
       "      <td>2f2f6e7c129308d2.jpg</td>\n",
       "      <td>paragraph 0.8675763010978699:131x22+540+419</td>\n",
       "      <td>label 0.25:174x66+1202+362</td>\n",
       "      <td>header 0.54:962x77+360+714</td>\n",
       "      <td>button 0.99:159x55+350+401,1.0:150x61+650+1369...</td>\n",
       "      <td>container 0.9933208227157593:1150x1754+304+310...</td>\n",
       "      <td>NaN</td>\n",
       "      <td>NaN</td>\n",
       "      <td>NaN</td>\n",
       "      <td>NaN</td>\n",
       "      <td>NaN</td>\n",
       "      <td>NaN</td>\n",
       "      <td>NaN</td>\n",
       "      <td>NaN</td>\n",
       "      <td>NaN</td>\n",
       "      <td>NaN</td>\n",
       "      <td>NaN</td>\n",
       "      <td>NaN</td>\n",
       "      <td>NaN</td>\n",
       "      <td>NaN</td>\n",
       "      <td>NaN</td>\n",
       "      <td>NaN</td>\n",
       "    </tr>\n",
       "    <tr>\n",
       "      <th>...</th>\n",
       "      <td>...</td>\n",
       "      <td>...</td>\n",
       "      <td>...</td>\n",
       "      <td>...</td>\n",
       "      <td>...</td>\n",
       "      <td>...</td>\n",
       "      <td>...</td>\n",
       "      <td>...</td>\n",
       "      <td>...</td>\n",
       "      <td>...</td>\n",
       "      <td>...</td>\n",
       "      <td>...</td>\n",
       "      <td>...</td>\n",
       "      <td>...</td>\n",
       "      <td>...</td>\n",
       "      <td>...</td>\n",
       "      <td>...</td>\n",
       "      <td>...</td>\n",
       "      <td>...</td>\n",
       "      <td>...</td>\n",
       "      <td>...</td>\n",
       "      <td>...</td>\n",
       "    </tr>\n",
       "    <tr>\n",
       "      <th>582</th>\n",
       "      <td>999816c26f78f128.jpg</td>\n",
       "      <td>button 1.0:183x100+325+1227,1.0:143x82+351+998...</td>\n",
       "      <td>image 0.95:826x1084+185+159</td>\n",
       "      <td>linebreak 0.4766712188720703:657x75+278+1133</td>\n",
       "      <td>NaN</td>\n",
       "      <td>NaN</td>\n",
       "      <td>NaN</td>\n",
       "      <td>NaN</td>\n",
       "      <td>NaN</td>\n",
       "      <td>NaN</td>\n",
       "      <td>NaN</td>\n",
       "      <td>NaN</td>\n",
       "      <td>NaN</td>\n",
       "      <td>NaN</td>\n",
       "      <td>NaN</td>\n",
       "      <td>NaN</td>\n",
       "      <td>NaN</td>\n",
       "      <td>NaN</td>\n",
       "      <td>NaN</td>\n",
       "      <td>NaN</td>\n",
       "      <td>NaN</td>\n",
       "      <td>NaN</td>\n",
       "    </tr>\n",
       "    <tr>\n",
       "      <th>583</th>\n",
       "      <td>1879b3ef55c7f3bb.jpg</td>\n",
       "      <td>button 1.0:167x99+443+1262,1.0:137x77+463+1054...</td>\n",
       "      <td>image 1.0:723x1125+311+239</td>\n",
       "      <td>linebreak 0.41873273253440857:620x83+391+1168</td>\n",
       "      <td>container 0.4678601622581482:674x1096+354+307</td>\n",
       "      <td>NaN</td>\n",
       "      <td>NaN</td>\n",
       "      <td>NaN</td>\n",
       "      <td>NaN</td>\n",
       "      <td>NaN</td>\n",
       "      <td>NaN</td>\n",
       "      <td>NaN</td>\n",
       "      <td>NaN</td>\n",
       "      <td>NaN</td>\n",
       "      <td>NaN</td>\n",
       "      <td>NaN</td>\n",
       "      <td>NaN</td>\n",
       "      <td>NaN</td>\n",
       "      <td>NaN</td>\n",
       "      <td>NaN</td>\n",
       "      <td>NaN</td>\n",
       "      <td>NaN</td>\n",
       "    </tr>\n",
       "    <tr>\n",
       "      <th>584</th>\n",
       "      <td>2fd1b54c1fb1f0aa.jpg</td>\n",
       "      <td>button 0.99:126x75+198+295,1.0:178x53+467+285,...</td>\n",
       "      <td>image 0.95:2186x1520+38+115</td>\n",
       "      <td>NaN</td>\n",
       "      <td>NaN</td>\n",
       "      <td>NaN</td>\n",
       "      <td>NaN</td>\n",
       "      <td>NaN</td>\n",
       "      <td>NaN</td>\n",
       "      <td>NaN</td>\n",
       "      <td>NaN</td>\n",
       "      <td>NaN</td>\n",
       "      <td>NaN</td>\n",
       "      <td>NaN</td>\n",
       "      <td>NaN</td>\n",
       "      <td>NaN</td>\n",
       "      <td>NaN</td>\n",
       "      <td>NaN</td>\n",
       "      <td>NaN</td>\n",
       "      <td>NaN</td>\n",
       "      <td>NaN</td>\n",
       "      <td>NaN</td>\n",
       "    </tr>\n",
       "    <tr>\n",
       "      <th>585</th>\n",
       "      <td>aa178b35cf08f3d5.jpg</td>\n",
       "      <td>button 1.0:105x61+115+128,1.0:140x42+332+128,1...</td>\n",
       "      <td>image 0.86:1681x1221+16+11</td>\n",
       "      <td>NaN</td>\n",
       "      <td>NaN</td>\n",
       "      <td>NaN</td>\n",
       "      <td>NaN</td>\n",
       "      <td>NaN</td>\n",
       "      <td>NaN</td>\n",
       "      <td>NaN</td>\n",
       "      <td>NaN</td>\n",
       "      <td>NaN</td>\n",
       "      <td>NaN</td>\n",
       "      <td>NaN</td>\n",
       "      <td>NaN</td>\n",
       "      <td>NaN</td>\n",
       "      <td>NaN</td>\n",
       "      <td>NaN</td>\n",
       "      <td>NaN</td>\n",
       "      <td>NaN</td>\n",
       "      <td>NaN</td>\n",
       "      <td>NaN</td>\n",
       "    </tr>\n",
       "    <tr>\n",
       "      <th>586</th>\n",
       "      <td>846c3d2e45c9b72a.jpg</td>\n",
       "      <td>button 1.0:98x60+275+1149,1.0:192x87+409+403,1...</td>\n",
       "      <td>image 0.98:596x691+263+343</td>\n",
       "      <td>container 0.9786159992218018:653x985+231+263,0...</td>\n",
       "      <td>NaN</td>\n",
       "      <td>NaN</td>\n",
       "      <td>NaN</td>\n",
       "      <td>NaN</td>\n",
       "      <td>NaN</td>\n",
       "      <td>NaN</td>\n",
       "      <td>NaN</td>\n",
       "      <td>NaN</td>\n",
       "      <td>NaN</td>\n",
       "      <td>NaN</td>\n",
       "      <td>NaN</td>\n",
       "      <td>NaN</td>\n",
       "      <td>NaN</td>\n",
       "      <td>NaN</td>\n",
       "      <td>NaN</td>\n",
       "      <td>NaN</td>\n",
       "      <td>NaN</td>\n",
       "      <td>NaN</td>\n",
       "    </tr>\n",
       "  </tbody>\n",
       "</table>\n",
       "<p>587 rows × 22 columns</p>\n",
       "</div>"
      ],
      "text/plain": [
       "                       0   ...   21\n",
       "0    b6fa38bc088d89a5.jpg  ...  NaN\n",
       "1    508280a68ed1c8e9.jpg  ...  NaN\n",
       "2    d238a6436268223e.jpg  ...  NaN\n",
       "3    bf70e32f7658601d.jpg  ...  NaN\n",
       "4    2f2f6e7c129308d2.jpg  ...  NaN\n",
       "..                    ...  ...  ...\n",
       "582  999816c26f78f128.jpg  ...  NaN\n",
       "583  1879b3ef55c7f3bb.jpg  ...  NaN\n",
       "584  2fd1b54c1fb1f0aa.jpg  ...  NaN\n",
       "585  aa178b35cf08f3d5.jpg  ...  NaN\n",
       "586  846c3d2e45c9b72a.jpg  ...  NaN\n",
       "\n",
       "[587 rows x 22 columns]"
      ]
     },
     "execution_count": 20,
     "metadata": {
      "tags": []
     },
     "output_type": "execute_result"
    }
   ],
   "source": [
    "submission_new"
   ]
  },
  {
   "cell_type": "code",
   "execution_count": 0,
   "metadata": {
    "colab": {},
    "colab_type": "code",
    "id": "G8wvPBrfzceb"
   },
   "outputs": [],
   "source": [
    "df = submission_new.dropna(axis = 1,how = \"all\")"
   ]
  },
  {
   "cell_type": "code",
   "execution_count": 22,
   "metadata": {
    "colab": {
     "base_uri": "https://localhost:8080/",
     "height": 609
    },
    "colab_type": "code",
    "executionInfo": {
     "elapsed": 5966,
     "status": "ok",
     "timestamp": 1591345033444,
     "user": {
      "displayName": "Naveen Narayanan",
      "photoUrl": "",
      "userId": "14894238330134112731"
     },
     "user_tz": -330
    },
    "id": "iTvCxlGkzclL",
    "outputId": "b81c8dde-fdb6-4b49-8b5f-7c3b50a2ba69"
   },
   "outputs": [
    {
     "data": {
      "text/html": [
       "<div>\n",
       "<style scoped>\n",
       "    .dataframe tbody tr th:only-of-type {\n",
       "        vertical-align: middle;\n",
       "    }\n",
       "\n",
       "    .dataframe tbody tr th {\n",
       "        vertical-align: top;\n",
       "    }\n",
       "\n",
       "    .dataframe thead th {\n",
       "        text-align: right;\n",
       "    }\n",
       "</style>\n",
       "<table border=\"1\" class=\"dataframe\">\n",
       "  <thead>\n",
       "    <tr style=\"text-align: right;\">\n",
       "      <th></th>\n",
       "      <th>0</th>\n",
       "      <th>1</th>\n",
       "      <th>2</th>\n",
       "      <th>3</th>\n",
       "      <th>4</th>\n",
       "      <th>5</th>\n",
       "      <th>6</th>\n",
       "      <th>7</th>\n",
       "      <th>8</th>\n",
       "      <th>9</th>\n",
       "      <th>10</th>\n",
       "    </tr>\n",
       "  </thead>\n",
       "  <tbody>\n",
       "    <tr>\n",
       "      <th>0</th>\n",
       "      <td>b6fa38bc088d89a5.jpg</td>\n",
       "      <td>paragraph 0.8685754537582397:238x37+1647+711,0...</td>\n",
       "      <td>rating 0.5249937772750854:283x60+1605+614</td>\n",
       "      <td>header 0.94:361x62+301+1146,1.0:294x69+414+449...</td>\n",
       "      <td>button 1.0:162x92+239+278,1.0:146x84+282+910,0...</td>\n",
       "      <td>image 1.0:2252x659+25+188</td>\n",
       "      <td>linebreak 0.927649974822998:1902x130+204+919,0...</td>\n",
       "      <td>container 0.961188018321991:2111x1456+101+136</td>\n",
       "      <td>NaN</td>\n",
       "      <td>NaN</td>\n",
       "      <td>NaN</td>\n",
       "    </tr>\n",
       "    <tr>\n",
       "      <th>1</th>\n",
       "      <td>508280a68ed1c8e9.jpg</td>\n",
       "      <td>paragraph 0.7505806684494019:464x35+426+823,0....</td>\n",
       "      <td>radiobutton 0.5958633422851562:31x26+978+667</td>\n",
       "      <td>header 0.96:309x48+309+484,0.53:509x57+375+666</td>\n",
       "      <td>button 1.0:542x104+565+1615,1.0:432x92+606+180...</td>\n",
       "      <td>image 0.99:74x48+679+474</td>\n",
       "      <td>linebreak 0.9259003400802612:1116x52+310+620,0...</td>\n",
       "      <td>container 0.99309241771698:1236x1833+274+247,0...</td>\n",
       "      <td>link 0.99:234x95+716+925</td>\n",
       "      <td>NaN</td>\n",
       "      <td>NaN</td>\n",
       "    </tr>\n",
       "    <tr>\n",
       "      <th>2</th>\n",
       "      <td>d238a6436268223e.jpg</td>\n",
       "      <td>paragraph 0.8914610147476196:103x123+264+1059,...</td>\n",
       "      <td>header 0.97:121x31+249+783,0.97:137x36+259+100...</td>\n",
       "      <td>button 0.99:64x37+304+350,1.0:81x43+311+259,1....</td>\n",
       "      <td>image 0.92:54x36+523+1184,0.99:73x43+526+1025,...</td>\n",
       "      <td>linebreak 0.8650826215744019:496x27+542+975,0....</td>\n",
       "      <td>container 0.9915062785148621:491x587+1235+644,...</td>\n",
       "      <td>link 0.97:92x33+631+1120,0.97:83x36+639+904,0....</td>\n",
       "      <td>NaN</td>\n",
       "      <td>NaN</td>\n",
       "      <td>NaN</td>\n",
       "    </tr>\n",
       "    <tr>\n",
       "      <th>3</th>\n",
       "      <td>bf70e32f7658601d.jpg</td>\n",
       "      <td>paragraph 0.9707154035568237:142x61+550+888,0....</td>\n",
       "      <td>header 0.82:151x45+436+685,1.0:265x64+483+1018...</td>\n",
       "      <td>button 1.0:124x75+446+367,1.0:108x64+942+338</td>\n",
       "      <td>linebreak 0.949711799621582:689x78+410+424</td>\n",
       "      <td>container 0.9929119348526001:780x1195+403+273</td>\n",
       "      <td>link 1.0:196x66+617+766,1.0:195x71+622+690,1.0...</td>\n",
       "      <td>NaN</td>\n",
       "      <td>NaN</td>\n",
       "      <td>NaN</td>\n",
       "      <td>NaN</td>\n",
       "    </tr>\n",
       "    <tr>\n",
       "      <th>4</th>\n",
       "      <td>2f2f6e7c129308d2.jpg</td>\n",
       "      <td>paragraph 0.8675763010978699:131x22+540+419</td>\n",
       "      <td>label 0.25:174x66+1202+362</td>\n",
       "      <td>header 0.54:962x77+360+714</td>\n",
       "      <td>button 0.99:159x55+350+401,1.0:150x61+650+1369...</td>\n",
       "      <td>container 0.9933208227157593:1150x1754+304+310...</td>\n",
       "      <td>NaN</td>\n",
       "      <td>NaN</td>\n",
       "      <td>NaN</td>\n",
       "      <td>NaN</td>\n",
       "      <td>NaN</td>\n",
       "    </tr>\n",
       "    <tr>\n",
       "      <th>...</th>\n",
       "      <td>...</td>\n",
       "      <td>...</td>\n",
       "      <td>...</td>\n",
       "      <td>...</td>\n",
       "      <td>...</td>\n",
       "      <td>...</td>\n",
       "      <td>...</td>\n",
       "      <td>...</td>\n",
       "      <td>...</td>\n",
       "      <td>...</td>\n",
       "      <td>...</td>\n",
       "    </tr>\n",
       "    <tr>\n",
       "      <th>582</th>\n",
       "      <td>999816c26f78f128.jpg</td>\n",
       "      <td>button 1.0:183x100+325+1227,1.0:143x82+351+998...</td>\n",
       "      <td>image 0.95:826x1084+185+159</td>\n",
       "      <td>linebreak 0.4766712188720703:657x75+278+1133</td>\n",
       "      <td>NaN</td>\n",
       "      <td>NaN</td>\n",
       "      <td>NaN</td>\n",
       "      <td>NaN</td>\n",
       "      <td>NaN</td>\n",
       "      <td>NaN</td>\n",
       "      <td>NaN</td>\n",
       "    </tr>\n",
       "    <tr>\n",
       "      <th>583</th>\n",
       "      <td>1879b3ef55c7f3bb.jpg</td>\n",
       "      <td>button 1.0:167x99+443+1262,1.0:137x77+463+1054...</td>\n",
       "      <td>image 1.0:723x1125+311+239</td>\n",
       "      <td>linebreak 0.41873273253440857:620x83+391+1168</td>\n",
       "      <td>container 0.4678601622581482:674x1096+354+307</td>\n",
       "      <td>NaN</td>\n",
       "      <td>NaN</td>\n",
       "      <td>NaN</td>\n",
       "      <td>NaN</td>\n",
       "      <td>NaN</td>\n",
       "      <td>NaN</td>\n",
       "    </tr>\n",
       "    <tr>\n",
       "      <th>584</th>\n",
       "      <td>2fd1b54c1fb1f0aa.jpg</td>\n",
       "      <td>button 0.99:126x75+198+295,1.0:178x53+467+285,...</td>\n",
       "      <td>image 0.95:2186x1520+38+115</td>\n",
       "      <td>NaN</td>\n",
       "      <td>NaN</td>\n",
       "      <td>NaN</td>\n",
       "      <td>NaN</td>\n",
       "      <td>NaN</td>\n",
       "      <td>NaN</td>\n",
       "      <td>NaN</td>\n",
       "      <td>NaN</td>\n",
       "    </tr>\n",
       "    <tr>\n",
       "      <th>585</th>\n",
       "      <td>aa178b35cf08f3d5.jpg</td>\n",
       "      <td>button 1.0:105x61+115+128,1.0:140x42+332+128,1...</td>\n",
       "      <td>image 0.86:1681x1221+16+11</td>\n",
       "      <td>NaN</td>\n",
       "      <td>NaN</td>\n",
       "      <td>NaN</td>\n",
       "      <td>NaN</td>\n",
       "      <td>NaN</td>\n",
       "      <td>NaN</td>\n",
       "      <td>NaN</td>\n",
       "      <td>NaN</td>\n",
       "    </tr>\n",
       "    <tr>\n",
       "      <th>586</th>\n",
       "      <td>846c3d2e45c9b72a.jpg</td>\n",
       "      <td>button 1.0:98x60+275+1149,1.0:192x87+409+403,1...</td>\n",
       "      <td>image 0.98:596x691+263+343</td>\n",
       "      <td>container 0.9786159992218018:653x985+231+263,0...</td>\n",
       "      <td>NaN</td>\n",
       "      <td>NaN</td>\n",
       "      <td>NaN</td>\n",
       "      <td>NaN</td>\n",
       "      <td>NaN</td>\n",
       "      <td>NaN</td>\n",
       "      <td>NaN</td>\n",
       "    </tr>\n",
       "  </tbody>\n",
       "</table>\n",
       "<p>587 rows × 11 columns</p>\n",
       "</div>"
      ],
      "text/plain": [
       "                       0   ...   10\n",
       "0    b6fa38bc088d89a5.jpg  ...  NaN\n",
       "1    508280a68ed1c8e9.jpg  ...  NaN\n",
       "2    d238a6436268223e.jpg  ...  NaN\n",
       "3    bf70e32f7658601d.jpg  ...  NaN\n",
       "4    2f2f6e7c129308d2.jpg  ...  NaN\n",
       "..                    ...  ...  ...\n",
       "582  999816c26f78f128.jpg  ...  NaN\n",
       "583  1879b3ef55c7f3bb.jpg  ...  NaN\n",
       "584  2fd1b54c1fb1f0aa.jpg  ...  NaN\n",
       "585  aa178b35cf08f3d5.jpg  ...  NaN\n",
       "586  846c3d2e45c9b72a.jpg  ...  NaN\n",
       "\n",
       "[587 rows x 11 columns]"
      ]
     },
     "execution_count": 22,
     "metadata": {
      "tags": []
     },
     "output_type": "execute_result"
    }
   ],
   "source": [
    "df"
   ]
  },
  {
   "cell_type": "code",
   "execution_count": 23,
   "metadata": {
    "colab": {
     "base_uri": "https://localhost:8080/",
     "height": 221
    },
    "colab_type": "code",
    "executionInfo": {
     "elapsed": 5351,
     "status": "ok",
     "timestamp": 1591345033445,
     "user": {
      "displayName": "Naveen Narayanan",
      "photoUrl": "",
      "userId": "14894238330134112731"
     },
     "user_tz": -330
    },
    "id": "9RrbvT-4IaAc",
    "outputId": "ea4c9962-454d-4afb-fb65-f198772dc0cf"
   },
   "outputs": [
    {
     "data": {
      "text/plain": [
       "0                                d40b5e1a014ef68b.jpg\n",
       "1         paragraph 0.945055365562439:411x90+584+1546\n",
       "2                          header 0.74:477x79+575+536\n",
       "3     button 1.0:141x68+326+1813,1.0:156x70+1153+1859\n",
       "4                          image 1.0:205x100+698+1060\n",
       "5      container 0.9914913177490234:1186x1732+250+363\n",
       "6                                                 NaN\n",
       "7                                                 NaN\n",
       "8                                                 NaN\n",
       "9                                                 NaN\n",
       "10                                                NaN\n",
       "Name: 455, dtype: object"
      ]
     },
     "execution_count": 23,
     "metadata": {
      "tags": []
     },
     "output_type": "execute_result"
    }
   ],
   "source": [
    "df.iloc[455]"
   ]
  },
  {
   "cell_type": "code",
   "execution_count": 24,
   "metadata": {
    "colab": {
     "base_uri": "https://localhost:8080/",
     "height": 34
    },
    "colab_type": "code",
    "executionInfo": {
     "elapsed": 1084,
     "status": "ok",
     "timestamp": 1591345055307,
     "user": {
      "displayName": "Naveen Narayanan",
      "photoUrl": "",
      "userId": "14894238330134112731"
     },
     "user_tz": -330
    },
    "id": "rZokUkCfRsOR",
    "outputId": "99c08c36-6c47-489a-e7f4-1a0751a07050"
   },
   "outputs": [
    {
     "data": {
      "text/plain": [
       "'button 1.0:141x68+326+1813,1.0:156x70+1153+1859'"
      ]
     },
     "execution_count": 24,
     "metadata": {
      "tags": []
     },
     "output_type": "execute_result"
    }
   ],
   "source": [
    "df.iloc[455][3]"
   ]
  },
  {
   "cell_type": "code",
   "execution_count": 0,
   "metadata": {
    "colab": {},
    "colab_type": "code",
    "id": "ZEJfEIhGRsGx"
   },
   "outputs": [],
   "source": []
  },
  {
   "cell_type": "code",
   "execution_count": 0,
   "metadata": {
    "colab": {},
    "colab_type": "code",
    "id": "N7O0BVY6Rr_M"
   },
   "outputs": [],
   "source": []
  },
  {
   "cell_type": "code",
   "execution_count": 0,
   "metadata": {
    "colab": {},
    "colab_type": "code",
    "id": "474-8RC8Rr3Q"
   },
   "outputs": [],
   "source": []
  },
  {
   "cell_type": "code",
   "execution_count": 0,
   "metadata": {
    "colab": {},
    "colab_type": "code",
    "id": "lzvjtD_dRrvF"
   },
   "outputs": [],
   "source": []
  },
  {
   "cell_type": "code",
   "execution_count": 0,
   "metadata": {
    "colab": {},
    "colab_type": "code",
    "id": "s4HfJXYuRrm2"
   },
   "outputs": [],
   "source": []
  },
  {
   "cell_type": "code",
   "execution_count": 0,
   "metadata": {
    "colab": {},
    "colab_type": "code",
    "id": "FnIh8XA1Rree"
   },
   "outputs": [],
   "source": []
  },
  {
   "cell_type": "code",
   "execution_count": 0,
   "metadata": {
    "colab": {},
    "colab_type": "code",
    "id": "V3ncQqwrRrWN"
   },
   "outputs": [],
   "source": []
  },
  {
   "cell_type": "code",
   "execution_count": 0,
   "metadata": {
    "colab": {},
    "colab_type": "code",
    "id": "mbEe_6hpRrOa"
   },
   "outputs": [],
   "source": []
  },
  {
   "cell_type": "code",
   "execution_count": 0,
   "metadata": {
    "colab": {},
    "colab_type": "code",
    "id": "RSTlZbhJRrHS"
   },
   "outputs": [],
   "source": []
  },
  {
   "cell_type": "code",
   "execution_count": 0,
   "metadata": {
    "colab": {},
    "colab_type": "code",
    "id": "QjRu1eFfRrAN"
   },
   "outputs": [],
   "source": []
  },
  {
   "cell_type": "code",
   "execution_count": 0,
   "metadata": {
    "colab": {},
    "colab_type": "code",
    "id": "Ad7aV4mdRq5K"
   },
   "outputs": [],
   "source": []
  },
  {
   "cell_type": "code",
   "execution_count": 0,
   "metadata": {
    "colab": {},
    "colab_type": "code",
    "id": "lLbatLe8Rqxk"
   },
   "outputs": [],
   "source": []
  },
  {
   "cell_type": "code",
   "execution_count": 0,
   "metadata": {
    "colab": {},
    "colab_type": "code",
    "id": "rZt69acdRqrI"
   },
   "outputs": [],
   "source": []
  },
  {
   "cell_type": "code",
   "execution_count": 0,
   "metadata": {
    "colab": {},
    "colab_type": "code",
    "id": "RqgngfIBRqj7"
   },
   "outputs": [],
   "source": []
  },
  {
   "cell_type": "code",
   "execution_count": 0,
   "metadata": {
    "colab": {},
    "colab_type": "code",
    "id": "dFPpcHseRqcz"
   },
   "outputs": [],
   "source": []
  },
  {
   "cell_type": "code",
   "execution_count": 0,
   "metadata": {
    "colab": {},
    "colab_type": "code",
    "id": "xfAzo8N6RqVe"
   },
   "outputs": [],
   "source": []
  },
  {
   "cell_type": "code",
   "execution_count": 0,
   "metadata": {
    "colab": {},
    "colab_type": "code",
    "id": "ljiW6KjJRqOk"
   },
   "outputs": [],
   "source": []
  },
  {
   "cell_type": "code",
   "execution_count": 0,
   "metadata": {
    "colab": {},
    "colab_type": "code",
    "id": "fMHGs6QHFCjG"
   },
   "outputs": [],
   "source": [
    "outF = open(outFile_path, \"w\")\n",
    "for i in range(0,df.shape[0]):\n",
    "  one_line = df.at[i,0]\n",
    "  for j in range(1,df.shape[1]):\n",
    "    if(pd.isna(df.at[i,j])!=True):\n",
    "      one_line = one_line + ';' + df.at[i,j]\n",
    "    \n",
    "  outF.write(one_line)\n",
    "  outF.write(\"\\n\")\n",
    "outF.close()  \n"
   ]
  },
  {
   "cell_type": "code",
   "execution_count": 0,
   "metadata": {
    "colab": {},
    "colab_type": "code",
    "id": "OY5PtAjLRpk7"
   },
   "outputs": [],
   "source": []
  },
  {
   "cell_type": "code",
   "execution_count": 26,
   "metadata": {
    "colab": {
     "base_uri": "https://localhost:8080/",
     "height": 71
    },
    "colab_type": "code",
    "executionInfo": {
     "elapsed": 1114,
     "status": "ok",
     "timestamp": 1591345075157,
     "user": {
      "displayName": "Naveen Narayanan",
      "photoUrl": "",
      "userId": "14894238330134112731"
     },
     "user_tz": -330
    },
    "id": "mqTa9YHgFCeQ",
    "outputId": "e8bc0d05-eb9d-4204-bffa-3acb34b78e6c"
   },
   "outputs": [
    {
     "name": "stdout",
     "output_type": "stream",
     "text": [
      "d40b5e1a014ef68b.jpg;paragraph 0.945055365562439:411x90+584+1546;header 0.74:477x79+575+536;button 1.0:141x68+326+1813,1.0:156x70+1153+1859;image 1.0:205x100+698+1060;container 0.9914913177490234:1186x1732+250+363\n",
      "\n"
     ]
    }
   ],
   "source": [
    "num_lines = 0\n",
    "\n",
    "with open(outFile_path, 'r') as f:\n",
    "    for line in f:\n",
    "        # print(line)\n",
    "        num_lines += 1\n",
    "        if(num_lines==456):\n",
    "          print(line)"
   ]
  },
  {
   "cell_type": "code",
   "execution_count": 0,
   "metadata": {
    "colab": {
     "base_uri": "https://localhost:8080/",
     "height": 238
    },
    "colab_type": "code",
    "executionInfo": {
     "elapsed": 1014,
     "status": "ok",
     "timestamp": 1590601923531,
     "user": {
      "displayName": "Naveen Narayanan",
      "photoUrl": "",
      "userId": "02782580350292733604"
     },
     "user_tz": -330
    },
    "id": "myjwBIHvFCYv",
    "outputId": "ecca2f6e-4b72-445c-be7f-6a3c06aa2bd9"
   },
   "outputs": [
    {
     "data": {
      "text/plain": [
       "0                                  3f5d4c4347e56d82.jpg\n",
       "1     paragraph 0.98:77x29+543+1365,0.94:64x30+549+1...\n",
       "2                           table 0.89:870x975+465+1017\n",
       "3                            header 0.95:361x67+745+810\n",
       "4                            button 0.99:124x63+572+691\n",
       "5     container 0.45:2139x3385+0+0,1.0:1008x1327+397...\n",
       "6                                                   NaN\n",
       "7                                                   NaN\n",
       "8                                                   NaN\n",
       "9                                                   NaN\n",
       "10                                                  NaN\n",
       "11                                                  NaN\n",
       "Name: 455, dtype: object"
      ]
     },
     "execution_count": 26,
     "metadata": {
      "tags": []
     },
     "output_type": "execute_result"
    }
   ],
   "source": []
  },
  {
   "cell_type": "code",
   "execution_count": 0,
   "metadata": {
    "colab": {},
    "colab_type": "code",
    "id": "ihzk__0uFCSf"
   },
   "outputs": [],
   "source": []
  },
  {
   "cell_type": "code",
   "execution_count": 0,
   "metadata": {
    "colab": {},
    "colab_type": "code",
    "id": "11AmVUFzFCLx"
   },
   "outputs": [],
   "source": []
  },
  {
   "cell_type": "code",
   "execution_count": 0,
   "metadata": {
    "colab": {},
    "colab_type": "code",
    "id": "xxG8EVJjzcsI"
   },
   "outputs": [],
   "source": [
    "# submission_new_2.to_csv('/content/drive/My Drive/DrawnAI/submission_files/submission_v1_without_colon_sep_colon_int_noFill.csv', sep=';',header=None,index=False )"
   ]
  },
  {
   "cell_type": "code",
   "execution_count": 0,
   "metadata": {
    "colab": {},
    "colab_type": "code",
    "id": "pAQBkblXzcyy"
   },
   "outputs": [],
   "source": []
  },
  {
   "cell_type": "code",
   "execution_count": 0,
   "metadata": {
    "colab": {},
    "colab_type": "code",
    "id": "Wyj5qSh3zc5v"
   },
   "outputs": [],
   "source": []
  },
  {
   "cell_type": "code",
   "execution_count": 0,
   "metadata": {
    "colab": {},
    "colab_type": "code",
    "id": "ukJT2xtFTAHC"
   },
   "outputs": [],
   "source": []
  },
  {
   "cell_type": "code",
   "execution_count": 0,
   "metadata": {
    "colab": {},
    "colab_type": "code",
    "id": "hf6Sw0_qZVJ6"
   },
   "outputs": [],
   "source": []
  },
  {
   "cell_type": "code",
   "execution_count": 0,
   "metadata": {
    "colab": {},
    "colab_type": "code",
    "id": "PnEai_9dZVPq"
   },
   "outputs": [],
   "source": []
  },
  {
   "cell_type": "code",
   "execution_count": 0,
   "metadata": {
    "colab": {},
    "colab_type": "code",
    "id": "wQ55ZDQcZVWF"
   },
   "outputs": [],
   "source": []
  },
  {
   "cell_type": "code",
   "execution_count": 0,
   "metadata": {
    "colab": {},
    "colab_type": "code",
    "id": "bt3sB1V4ZVas"
   },
   "outputs": [],
   "source": []
  },
  {
   "cell_type": "code",
   "execution_count": 0,
   "metadata": {
    "colab": {
     "base_uri": "https://localhost:8080/",
     "height": 54
    },
    "colab_type": "code",
    "executionInfo": {
     "elapsed": 793,
     "status": "ok",
     "timestamp": 1590518793773,
     "user": {
      "displayName": "Naveen Narayanan",
      "photoUrl": "",
      "userId": "02782580350292733604"
     },
     "user_tz": -330
    },
    "id": "5cwVe7L9ZWHv",
    "outputId": "ac70dbca-3c87-4f28-8d15-322d9e645482"
   },
   "outputs": [
    {
     "name": "stdout",
     "output_type": "stream",
     "text": [
      "['89c0d973405a7bda.jpg', 'paragraph 0.93:119x107+346+1790,0.92:152x35+745+1776,0.94:66x20+804+1863,0.97:143x51+844+1027,0.71:55x21+952+1855,0.85:43x26+1073+1857', 'header 0.96:439x87+345+619', 'button 0.96:690x130+343+1976,0.99:125x64+351+1159,0.99:251x85+354+865,0.99:132x67+354+1044,0.99:131x69+394+1287,0.99:119x64+567+1027,0.99:143x63+589+1158,1.0:174x73+654+1279,0.99:287x79+723+848,0.99:133x65+887+1137', 'image 0.97:67x43+730+1856,0.98:73x56+882+1844,0.89:56x51+1020+1844', 'linebreak 0.72:1039x46+216+752,0.29:772x48+319+1690,0.49:550x24+423+1697', 'container 0.96:907x1446+260+630']\n"
     ]
    }
   ],
   "source": [
    "submission_file_path = \"/content/drive/My Drive/DrawnAI/submission_files/outFile_proper_data.txt\"\n",
    "with open(submission_file_path) as csvfile:\n",
    "            reader = csv.reader(csvfile, delimiter=';', quoting=csv.QUOTE_NONE)\n",
    "            lineCnt = 0\n",
    "\n",
    "            for row in reader:\n",
    "                # print(\"in\")\n",
    "                # print(row)\n",
    "                lineCnt += 1  \n",
    "                all_widgets_with_localisations = row[1:]\n",
    "                for widget_with_localisations in all_widgets_with_localisations:\n",
    "                  tokens = widget_with_localisations.split()\n",
    "                  if len(tokens) != 2:\n",
    "                    print(\"shit \",lineCnt)\n",
    "                if(lineCnt==432):\n",
    "                  print(row)    \n",
    "            "
   ]
  },
  {
   "cell_type": "code",
   "execution_count": 0,
   "metadata": {
    "colab": {},
    "colab_type": "code",
    "id": "JhHJNE-Rspzu"
   },
   "outputs": [],
   "source": []
  },
  {
   "cell_type": "code",
   "execution_count": 0,
   "metadata": {
    "colab": {},
    "colab_type": "code",
    "id": "5JErn4vOhmAy"
   },
   "outputs": [],
   "source": [
    "with open(\"/content/drive/My Drive/DrawnUI/data/train/coco_fulldata_v1.json\") as f:\n",
    "  full = json.load(f)"
   ]
  },
  {
   "cell_type": "code",
   "execution_count": 0,
   "metadata": {
    "colab": {
     "base_uri": "https://localhost:8080/",
     "height": 34
    },
    "colab_type": "code",
    "executionInfo": {
     "elapsed": 1272,
     "status": "ok",
     "timestamp": 1590937583117,
     "user": {
      "displayName": "Naveen Narayanan",
      "photoUrl": "",
      "userId": "14894238330134112731"
     },
     "user_tz": -330
    },
    "id": "KAu1UnGnROW5",
    "outputId": "377316fa-5afc-432a-9b5a-da165123cf15"
   },
   "outputs": [
    {
     "data": {
      "text/plain": [
       "dict_keys(['images', 'annotations', 'info', 'categories'])"
      ]
     },
     "execution_count": 27,
     "metadata": {
      "tags": []
     },
     "output_type": "execute_result"
    }
   ],
   "source": [
    "full.keys()"
   ]
  },
  {
   "cell_type": "code",
   "execution_count": 0,
   "metadata": {
    "colab": {
     "base_uri": "https://localhost:8080/",
     "height": 85
    },
    "colab_type": "code",
    "executionInfo": {
     "elapsed": 913,
     "status": "ok",
     "timestamp": 1590937587307,
     "user": {
      "displayName": "Naveen Narayanan",
      "photoUrl": "",
      "userId": "14894238330134112731"
     },
     "user_tz": -330
    },
    "id": "ZbuNEDj3RPYe",
    "outputId": "9e572fd2-f8aa-493f-f97c-990d6a178f90"
   },
   "outputs": [
    {
     "data": {
      "text/plain": [
       "{'file_name': '00af306dc45f95aa.jpg',\n",
       " 'height': 2016,\n",
       " 'id': '00af306dc45f95aa',\n",
       " 'width': 1512}"
      ]
     },
     "execution_count": 28,
     "metadata": {
      "tags": []
     },
     "output_type": "execute_result"
    }
   ],
   "source": [
    "full['images'][0]"
   ]
  },
  {
   "cell_type": "code",
   "execution_count": 0,
   "metadata": {
    "colab": {
     "base_uri": "https://localhost:8080/",
     "height": 102
    },
    "colab_type": "code",
    "executionInfo": {
     "elapsed": 978,
     "status": "ok",
     "timestamp": 1590937638864,
     "user": {
      "displayName": "Naveen Narayanan",
      "photoUrl": "",
      "userId": "14894238330134112731"
     },
     "user_tz": -330
    },
    "id": "ikNJXVbdRQnA",
    "outputId": "6b094c20-1b1c-4716-902a-ec25bae51df6"
   },
   "outputs": [
    {
     "data": {
      "text/plain": [
       "{'bbox': ['380', '912', '199', '47'],\n",
       " 'category_id': 0,\n",
       " 'id': 0,\n",
       " 'image_id': '005a1269ffaaac13',\n",
       " 'iscrowd': 0}"
      ]
     },
     "execution_count": 31,
     "metadata": {
      "tags": []
     },
     "output_type": "execute_result"
    }
   ],
   "source": [
    "full['annotations'][0]"
   ]
  },
  {
   "cell_type": "code",
   "execution_count": 0,
   "metadata": {
    "colab": {},
    "colab_type": "code",
    "id": "vJwhNcuIRTha"
   },
   "outputs": [],
   "source": [
    "for i in full['annotations']:\n",
    "  i['bbox'] = [int(i['bbox'][0]),int(i['bbox'][1]),int(i['bbox'][2]),int(i['bbox'][3])]"
   ]
  },
  {
   "cell_type": "code",
   "execution_count": 0,
   "metadata": {
    "colab": {
     "base_uri": "https://localhost:8080/",
     "height": 102
    },
    "colab_type": "code",
    "executionInfo": {
     "elapsed": 848,
     "status": "ok",
     "timestamp": 1590937716583,
     "user": {
      "displayName": "Naveen Narayanan",
      "photoUrl": "",
      "userId": "14894238330134112731"
     },
     "user_tz": -330
    },
    "id": "89vgraHURuRE",
    "outputId": "c25da07f-91cc-48c4-aadd-fb9c7ada0e84"
   },
   "outputs": [
    {
     "data": {
      "text/plain": [
       "{'bbox': [380, 912, 199, 47],\n",
       " 'category_id': 0,\n",
       " 'id': 0,\n",
       " 'image_id': '005a1269ffaaac13',\n",
       " 'iscrowd': 0}"
      ]
     },
     "execution_count": 33,
     "metadata": {
      "tags": []
     },
     "output_type": "execute_result"
    }
   ],
   "source": [
    "full['annotations'][0]"
   ]
  },
  {
   "cell_type": "code",
   "execution_count": 0,
   "metadata": {
    "colab": {},
    "colab_type": "code",
    "id": "XAyLjG1JRwMo"
   },
   "outputs": [],
   "source": [
    "with open(\"/content/drive/My Drive/DrawnUI/data/train/coco_fulldata_v1.json\", \"w\") as write_file:\n",
    "    json.dump(full, write_file)"
   ]
  },
  {
   "cell_type": "code",
   "execution_count": 0,
   "metadata": {
    "colab": {},
    "colab_type": "code",
    "id": "2D99CKCrSEsf"
   },
   "outputs": [],
   "source": []
  }
 ],
 "metadata": {
  "colab": {
   "collapsed_sections": [],
   "name": "ScriptToCSV.ipynb",
   "provenance": []
  },
  "kernelspec": {
   "display_name": "Python 3",
   "language": "python",
   "name": "python3"
  },
  "language_info": {
   "codemirror_mode": {
    "name": "ipython",
    "version": 3
   },
   "file_extension": ".py",
   "mimetype": "text/x-python",
   "name": "python",
   "nbconvert_exporter": "python",
   "pygments_lexer": "ipython3",
   "version": "3.7.7"
  }
 },
 "nbformat": 4,
 "nbformat_minor": 1
}
